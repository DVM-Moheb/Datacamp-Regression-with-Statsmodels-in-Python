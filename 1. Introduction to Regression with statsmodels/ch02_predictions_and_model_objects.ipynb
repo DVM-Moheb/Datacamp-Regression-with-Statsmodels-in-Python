{
 "cells": [
  {
   "cell_type": "code",
   "execution_count": 1,
   "id": "08c10a6d-e660-42f8-a4af-3634550baea3",
   "metadata": {},
   "outputs": [],
   "source": [
    "import numpy as np\n",
    "np.random.seed(42)\n",
    "import matplotlib.pyplot as plt\n",
    "%matplotlib inline\n",
    "import pandas as pd\n",
    "import seaborn as sns\n",
    "sns.set()\n",
    "from statsmodels.formula.api import ols"
   ]
  },
  {
   "cell_type": "markdown",
   "id": "1b1f2cb3-b873-4279-88f1-c56b1c573295",
   "metadata": {},
   "source": [
    "## 1. Making predictions"
   ]
  },
  {
   "cell_type": "markdown",
   "id": "1941f60b-1e30-4aba-83e0-20737bad3c0d",
   "metadata": {},
   "source": [
    "### 1.1. Predicting house prices"
   ]
  },
  {
   "cell_type": "markdown",
   "id": "d1caa5c2-0449-454f-a914-5fb62b8922c0",
   "metadata": {},
   "source": [
    "Perhaps the most useful feature of statistical models like linear regression is that you can make predictions. That is, you specify values for each of the explanatory variables, feed them to the model, and get a prediction for the corresponding response variable. The code flow is as follows.\n",
    "\n",
    "Here, you'll make predictions for the house prices in the Taiwan real estate dataset."
   ]
  },
  {
   "cell_type": "markdown",
   "id": "d2e7d012-4895-46b2-b72b-aee984ddc8fd",
   "metadata": {},
   "source": [
    "- Import the numpy package using the alias np.\n",
    "- Create a DataFrame of explanatory data, where the number of convenience stores, n_convenience, takes the integer values from zero to ten.\n",
    "- Print explanatory_data."
   ]
  },
  {
   "cell_type": "code",
   "execution_count": 2,
   "id": "37234ac7-ae5f-46df-9673-e451a85967bc",
   "metadata": {},
   "outputs": [],
   "source": [
    "taiwan_real_estate = pd.read_csv('../data/taiwan_real_estate2.csv')"
   ]
  },
  {
   "cell_type": "code",
   "execution_count": 3,
   "id": "3c3136a5-cfab-4f29-b176-1c82d358c159",
   "metadata": {},
   "outputs": [
    {
     "data": {
      "text/html": [
       "<div>\n",
       "<style scoped>\n",
       "    .dataframe tbody tr th:only-of-type {\n",
       "        vertical-align: middle;\n",
       "    }\n",
       "\n",
       "    .dataframe tbody tr th {\n",
       "        vertical-align: top;\n",
       "    }\n",
       "\n",
       "    .dataframe thead th {\n",
       "        text-align: right;\n",
       "    }\n",
       "</style>\n",
       "<table border=\"1\" class=\"dataframe\">\n",
       "  <thead>\n",
       "    <tr style=\"text-align: right;\">\n",
       "      <th></th>\n",
       "      <th>dist_to_mrt_m</th>\n",
       "      <th>n_convenience</th>\n",
       "      <th>house_age_years</th>\n",
       "      <th>price_twd_msq</th>\n",
       "    </tr>\n",
       "  </thead>\n",
       "  <tbody>\n",
       "    <tr>\n",
       "      <th>0</th>\n",
       "      <td>84.87882</td>\n",
       "      <td>10</td>\n",
       "      <td>30 to 45</td>\n",
       "      <td>11.467474</td>\n",
       "    </tr>\n",
       "    <tr>\n",
       "      <th>1</th>\n",
       "      <td>306.59470</td>\n",
       "      <td>9</td>\n",
       "      <td>15 to 30</td>\n",
       "      <td>12.768533</td>\n",
       "    </tr>\n",
       "    <tr>\n",
       "      <th>2</th>\n",
       "      <td>561.98450</td>\n",
       "      <td>5</td>\n",
       "      <td>0 to 15</td>\n",
       "      <td>14.311649</td>\n",
       "    </tr>\n",
       "    <tr>\n",
       "      <th>3</th>\n",
       "      <td>561.98450</td>\n",
       "      <td>5</td>\n",
       "      <td>0 to 15</td>\n",
       "      <td>16.580938</td>\n",
       "    </tr>\n",
       "    <tr>\n",
       "      <th>4</th>\n",
       "      <td>390.56840</td>\n",
       "      <td>5</td>\n",
       "      <td>0 to 15</td>\n",
       "      <td>13.040847</td>\n",
       "    </tr>\n",
       "  </tbody>\n",
       "</table>\n",
       "</div>"
      ],
      "text/plain": [
       "   dist_to_mrt_m  n_convenience house_age_years  price_twd_msq\n",
       "0       84.87882             10        30 to 45      11.467474\n",
       "1      306.59470              9        15 to 30      12.768533\n",
       "2      561.98450              5         0 to 15      14.311649\n",
       "3      561.98450              5         0 to 15      16.580938\n",
       "4      390.56840              5         0 to 15      13.040847"
      ]
     },
     "execution_count": 3,
     "metadata": {},
     "output_type": "execute_result"
    }
   ],
   "source": [
    "taiwan_real_estate.head()"
   ]
  },
  {
   "cell_type": "code",
   "execution_count": 4,
   "id": "63fdc8fc-3e6c-4350-9f76-a4f17ef2860e",
   "metadata": {},
   "outputs": [],
   "source": [
    "# Inintializing and fitting the model:\n",
    "model = ols(formula='price_twd_msq ~ n_convenience', data=taiwan_real_estate).fit()"
   ]
  },
  {
   "cell_type": "code",
   "execution_count": 5,
   "id": "69191067-cb60-4219-83e6-4e4e264b446a",
   "metadata": {},
   "outputs": [
    {
     "data": {
      "text/plain": [
       "Intercept        8.224237\n",
       "n_convenience    0.798080\n",
       "dtype: float64"
      ]
     },
     "execution_count": 5,
     "metadata": {},
     "output_type": "execute_result"
    }
   ],
   "source": [
    "# Getting model paramerters:\n",
    "model.params"
   ]
  },
  {
   "cell_type": "code",
   "execution_count": 6,
   "id": "8ef1b268-1a84-4bc2-beb4-288f78d49f04",
   "metadata": {},
   "outputs": [],
   "source": [
    "# Creating some data for prediction:\n",
    "prediction_data = pd.DataFrame({'n_convenience': np.arange(11)})"
   ]
  },
  {
   "cell_type": "markdown",
   "id": "967c87aa-6198-46ad-b744-421e4a3bab68",
   "metadata": {},
   "source": [
    "- Use the model mdl_price_vs_conv to make predictions from explanatory_data and store it as price_twd_msq.\n",
    "- Print the predictions."
   ]
  },
  {
   "cell_type": "code",
   "execution_count": 7,
   "id": "ca6b7f42-b021-40d4-baff-1437b600bbcb",
   "metadata": {},
   "outputs": [
    {
     "data": {
      "text/html": [
       "<div>\n",
       "<style scoped>\n",
       "    .dataframe tbody tr th:only-of-type {\n",
       "        vertical-align: middle;\n",
       "    }\n",
       "\n",
       "    .dataframe tbody tr th {\n",
       "        vertical-align: top;\n",
       "    }\n",
       "\n",
       "    .dataframe thead th {\n",
       "        text-align: right;\n",
       "    }\n",
       "</style>\n",
       "<table border=\"1\" class=\"dataframe\">\n",
       "  <thead>\n",
       "    <tr style=\"text-align: right;\">\n",
       "      <th></th>\n",
       "      <th>n_convenience</th>\n",
       "      <th>price_twd_msq</th>\n",
       "    </tr>\n",
       "  </thead>\n",
       "  <tbody>\n",
       "    <tr>\n",
       "      <th>0</th>\n",
       "      <td>0</td>\n",
       "      <td>8.224237</td>\n",
       "    </tr>\n",
       "    <tr>\n",
       "      <th>1</th>\n",
       "      <td>1</td>\n",
       "      <td>9.022317</td>\n",
       "    </tr>\n",
       "    <tr>\n",
       "      <th>2</th>\n",
       "      <td>2</td>\n",
       "      <td>9.820397</td>\n",
       "    </tr>\n",
       "    <tr>\n",
       "      <th>3</th>\n",
       "      <td>3</td>\n",
       "      <td>10.618477</td>\n",
       "    </tr>\n",
       "    <tr>\n",
       "      <th>4</th>\n",
       "      <td>4</td>\n",
       "      <td>11.416556</td>\n",
       "    </tr>\n",
       "  </tbody>\n",
       "</table>\n",
       "</div>"
      ],
      "text/plain": [
       "   n_convenience  price_twd_msq\n",
       "0              0       8.224237\n",
       "1              1       9.022317\n",
       "2              2       9.820397\n",
       "3              3      10.618477\n",
       "4              4      11.416556"
      ]
     },
     "execution_count": 7,
     "metadata": {},
     "output_type": "execute_result"
    }
   ],
   "source": [
    "# Making predictions:\n",
    "prediction_data['price_twd_msq'] = model.predict(prediction_data['n_convenience'])\n",
    "prediction_data.head()"
   ]
  },
  {
   "cell_type": "markdown",
   "id": "406a1715-5095-4f24-b855-26a86212084a",
   "metadata": {},
   "source": [
    "### 1.2. Visualizing predictions"
   ]
  },
  {
   "cell_type": "markdown",
   "id": "7aafea13-bd21-4614-b1bd-5af868b55d69",
   "metadata": {},
   "source": [
    "The prediction DataFrame you created contains a column of explanatory variable values and a column of response variable values. That means you can plot it on the same scatter plot of response versus explanatory data values."
   ]
  },
  {
   "cell_type": "markdown",
   "id": "3f617564-ccca-4529-b517-8761faa7d2b7",
   "metadata": {},
   "source": [
    "- Create a new figure to plot multiple layers.\n",
    "- Extend the plotting code to add points for the predictions in prediction_data. Color the points red.\n",
    "- Display the layered plot."
   ]
  },
  {
   "cell_type": "code",
   "execution_count": 8,
   "id": "612dd448-7daf-49d1-a73e-cc4ed7be1744",
   "metadata": {},
   "outputs": [
    {
     "data": {
      "image/png": "[encoded data removed]",
      "text/plain": [
       "<Figure size 576x288 with 1 Axes>"
      ]
     },
     "metadata": {},
     "output_type": "display_data"
    }
   ],
   "source": [
    "# Plotting predictions:\n",
    "fig, ax = plt.subplots(figsize=(8, 4))\n",
    "sns.regplot(data=taiwan_real_estate, x='n_convenience', y='price_twd_msq', ci=False, ax=ax)\n",
    "sns.scatterplot(data=prediction_data, x='n_convenience', y='price_twd_msq', markers='s', color='red', ax=ax);"
   ]
  },
  {
   "cell_type": "code",
   "execution_count": 9,
   "id": "2d9e8122-5044-4b59-89c7-4b8825643331",
   "metadata": {},
   "outputs": [
    {
     "data": {
      "image/png": "[encoded data removed]",
      "text/plain": [
       "<Figure size 576x288 with 1 Axes>"
      ]
     },
     "metadata": {},
     "output_type": "display_data"
    }
   ],
   "source": [
    "# Plotting predictions (after reducing the clutter):\n",
    "fig, ax = plt.subplots(figsize=(8, 4))\n",
    "sns.regplot(data=taiwan_real_estate, x='n_convenience', y='price_twd_msq', x_estimator=np.mean, ci=False, ax=ax)\n",
    "sns.scatterplot(data=prediction_data, x='n_convenience', y='price_twd_msq', color='red', markers='s', ax=ax);"
   ]
  },
  {
   "cell_type": "markdown",
   "id": "53b4e0f2-a286-497f-ad9b-65a210b07ce8",
   "metadata": {},
   "source": [
    "### 1.3. The limits of prediction"
   ]
  },
  {
   "cell_type": "markdown",
   "id": "514328e0-82e5-4638-ad24-6eb7e81421d5",
   "metadata": {},
   "source": [
    "In the last exercise, you made predictions on some sensible, could-happen-in-real-life, situations. That is, the cases when the number of nearby convenience stores were between zero and ten. To test the limits of the model's ability to predict, try some impossible situations.\n",
    "\n",
    "Use the console to try predicting house prices from mdl_price_vs_conv when there are -1 convenience stores. Do the same for 2.5 convenience stores. What happens in each case?"
   ]
  },
  {
   "cell_type": "markdown",
   "id": "06f95183-6d70-431f-abc3-a758d74b0a5c",
   "metadata": {},
   "source": [
    "- Create some impossible explanatory data. Define a DataFrame impossible with one column, n_convenience, set to -1 in the first row, and 2.5 in the second row."
   ]
  },
  {
   "cell_type": "code",
   "execution_count": 10,
   "id": "5103bb18-50c2-4e05-873d-d40683ddd8b6",
   "metadata": {},
   "outputs": [],
   "source": [
    "# Creating an array of some impossible values:\n",
    "impossible = pd.DataFrame({'n_convenience': [-1, 2.5]})"
   ]
  },
  {
   "cell_type": "code",
   "execution_count": 11,
   "id": "a4589828-fc53-473d-9691-0a59494991b1",
   "metadata": {},
   "outputs": [
    {
     "data": {
      "text/html": [
       "<div>\n",
       "<style scoped>\n",
       "    .dataframe tbody tr th:only-of-type {\n",
       "        vertical-align: middle;\n",
       "    }\n",
       "\n",
       "    .dataframe tbody tr th {\n",
       "        vertical-align: top;\n",
       "    }\n",
       "\n",
       "    .dataframe thead th {\n",
       "        text-align: right;\n",
       "    }\n",
       "</style>\n",
       "<table border=\"1\" class=\"dataframe\">\n",
       "  <thead>\n",
       "    <tr style=\"text-align: right;\">\n",
       "      <th></th>\n",
       "      <th>n_convenience</th>\n",
       "      <th>price_twd_msq</th>\n",
       "    </tr>\n",
       "  </thead>\n",
       "  <tbody>\n",
       "    <tr>\n",
       "      <th>0</th>\n",
       "      <td>-1.0</td>\n",
       "      <td>7.426158</td>\n",
       "    </tr>\n",
       "    <tr>\n",
       "      <th>1</th>\n",
       "      <td>2.5</td>\n",
       "      <td>10.219437</td>\n",
       "    </tr>\n",
       "  </tbody>\n",
       "</table>\n",
       "</div>"
      ],
      "text/plain": [
       "   n_convenience  price_twd_msq\n",
       "0           -1.0       7.426158\n",
       "1            2.5      10.219437"
      ]
     },
     "execution_count": 11,
     "metadata": {},
     "output_type": "execute_result"
    }
   ],
   "source": [
    "# Making preditions:\n",
    "impossible['price_twd_msq'] = model.predict(impossible['n_convenience'])\n",
    "impossible"
   ]
  },
  {
   "cell_type": "markdown",
   "id": "31b69b32-c0e9-4c3f-bab7-b3e3fc2ae55b",
   "metadata": {},
   "source": [
    "## 2. Working with model objects"
   ]
  },
  {
   "cell_type": "markdown",
   "id": "984f165b-a4be-4a48-858e-b81edac553bd",
   "metadata": {},
   "source": [
    "### 2.1. Extracting model elements"
   ]
  },
  {
   "cell_type": "markdown",
   "id": "50093245-9b57-4d7e-aacd-749eda63f5df",
   "metadata": {},
   "source": [
    "The model object created by ols() contains many elements. In order to perform further analysis on the model results, you need to extract its useful bits. The model coefficients, the fitted values, and the residuals are perhaps the most important pieces of the linear model object."
   ]
  },
  {
   "cell_type": "code",
   "execution_count": 12,
   "id": "2976126e-f822-4c52-a5a7-ff130c8ee01f",
   "metadata": {},
   "outputs": [
    {
     "data": {
      "text/plain": [
       "Intercept        8.224237\n",
       "n_convenience    0.798080\n",
       "dtype: float64"
      ]
     },
     "execution_count": 12,
     "metadata": {},
     "output_type": "execute_result"
    }
   ],
   "source": [
    "# Getting the model parameters:\n",
    "model.params"
   ]
  },
  {
   "cell_type": "code",
   "execution_count": 13,
   "id": "f8b4f757-04e8-4c92-8da7-85b5d12b5d92",
   "metadata": {},
   "outputs": [
    {
     "data": {
      "text/plain": [
       "0    16.205035\n",
       "1    15.406955\n",
       "2    12.214636\n",
       "3    12.214636\n",
       "4    12.214636\n",
       "dtype: float64"
      ]
     },
     "execution_count": 13,
     "metadata": {},
     "output_type": "execute_result"
    }
   ],
   "source": [
    "# Getting the fitted values:\n",
    "model.fittedvalues.head()"
   ]
  },
  {
   "cell_type": "code",
   "execution_count": 14,
   "id": "72a784e4-c07a-4f53-a3ea-834454a15066",
   "metadata": {},
   "outputs": [
    {
     "data": {
      "text/plain": [
       "0   -4.737561\n",
       "1   -2.638422\n",
       "2    2.097013\n",
       "3    4.366302\n",
       "4    0.826211\n",
       "dtype: float64"
      ]
     },
     "execution_count": 14,
     "metadata": {},
     "output_type": "execute_result"
    }
   ],
   "source": [
    "# Getting the residuals:\n",
    "model.resid.head()"
   ]
  },
  {
   "cell_type": "code",
   "execution_count": 15,
   "id": "41bbd975-c5e0-4eed-8f80-0631e61e645a",
   "metadata": {},
   "outputs": [
    {
     "data": {
      "text/html": [
       "<table class=\"simpletable\">\n",
       "<caption>OLS Regression Results</caption>\n",
       "<tr>\n",
       "  <th>Dep. Variable:</th>      <td>price_twd_msq</td>  <th>  R-squared:         </th> <td>   0.326</td>\n",
       "</tr>\n",
       "<tr>\n",
       "  <th>Model:</th>                   <td>OLS</td>       <th>  Adj. R-squared:    </th> <td>   0.324</td>\n",
       "</tr>\n",
       "<tr>\n",
       "  <th>Method:</th>             <td>Least Squares</td>  <th>  F-statistic:       </th> <td>   199.3</td>\n",
       "</tr>\n",
       "<tr>\n",
       "  <th>Date:</th>             <td>Fri, 29 Oct 2021</td> <th>  Prob (F-statistic):</th> <td>3.41e-37</td>\n",
       "</tr>\n",
       "<tr>\n",
       "  <th>Time:</th>                 <td>12:23:58</td>     <th>  Log-Likelihood:    </th> <td> -1091.1</td>\n",
       "</tr>\n",
       "<tr>\n",
       "  <th>No. Observations:</th>      <td>   414</td>      <th>  AIC:               </th> <td>   2186.</td>\n",
       "</tr>\n",
       "<tr>\n",
       "  <th>Df Residuals:</th>          <td>   412</td>      <th>  BIC:               </th> <td>   2194.</td>\n",
       "</tr>\n",
       "<tr>\n",
       "  <th>Df Model:</th>              <td>     1</td>      <th>                     </th>     <td> </td>   \n",
       "</tr>\n",
       "<tr>\n",
       "  <th>Covariance Type:</th>      <td>nonrobust</td>    <th>                     </th>     <td> </td>   \n",
       "</tr>\n",
       "</table>\n",
       "<table class=\"simpletable\">\n",
       "<tr>\n",
       "        <td></td>           <th>coef</th>     <th>std err</th>      <th>t</th>      <th>P>|t|</th>  <th>[0.025</th>    <th>0.975]</th>  \n",
       "</tr>\n",
       "<tr>\n",
       "  <th>Intercept</th>     <td>    8.2242</td> <td>    0.285</td> <td>   28.857</td> <td> 0.000</td> <td>    7.664</td> <td>    8.784</td>\n",
       "</tr>\n",
       "<tr>\n",
       "  <th>n_convenience</th> <td>    0.7981</td> <td>    0.057</td> <td>   14.118</td> <td> 0.000</td> <td>    0.687</td> <td>    0.909</td>\n",
       "</tr>\n",
       "</table>\n",
       "<table class=\"simpletable\">\n",
       "<tr>\n",
       "  <th>Omnibus:</th>       <td>171.927</td> <th>  Durbin-Watson:     </th> <td>   1.993</td> \n",
       "</tr>\n",
       "<tr>\n",
       "  <th>Prob(Omnibus):</th> <td> 0.000</td>  <th>  Jarque-Bera (JB):  </th> <td>1417.242</td> \n",
       "</tr>\n",
       "<tr>\n",
       "  <th>Skew:</th>          <td> 1.553</td>  <th>  Prob(JB):          </th> <td>1.78e-308</td>\n",
       "</tr>\n",
       "<tr>\n",
       "  <th>Kurtosis:</th>      <td>11.516</td>  <th>  Cond. No.          </th> <td>    8.87</td> \n",
       "</tr>\n",
       "</table><br/><br/>Notes:<br/>[1] Standard Errors assume that the covariance matrix of the errors is correctly specified."
      ],
      "text/plain": [
       "<class 'statsmodels.iolib.summary.Summary'>\n",
       "\"\"\"\n",
       "                            OLS Regression Results                            \n",
       "==============================================================================\n",
       "Dep. Variable:          price_twd_msq   R-squared:                       0.326\n",
       "Model:                            OLS   Adj. R-squared:                  0.324\n",
       "Method:                 Least Squares   F-statistic:                     199.3\n",
       "Date:                Fri, 29 Oct 2021   Prob (F-statistic):           3.41e-37\n",
       "Time:                        12:23:58   Log-Likelihood:                -1091.1\n",
       "No. Observations:                 414   AIC:                             2186.\n",
       "Df Residuals:                     412   BIC:                             2194.\n",
       "Df Model:                           1                                         \n",
       "Covariance Type:            nonrobust                                         \n",
       "=================================================================================\n",
       "                    coef    std err          t      P>|t|      [0.025      0.975]\n",
       "---------------------------------------------------------------------------------\n",
       "Intercept         8.2242      0.285     28.857      0.000       7.664       8.784\n",
       "n_convenience     0.7981      0.057     14.118      0.000       0.687       0.909\n",
       "==============================================================================\n",
       "Omnibus:                      171.927   Durbin-Watson:                   1.993\n",
       "Prob(Omnibus):                  0.000   Jarque-Bera (JB):             1417.242\n",
       "Skew:                           1.553   Prob(JB):                    1.78e-308\n",
       "Kurtosis:                      11.516   Cond. No.                         8.87\n",
       "==============================================================================\n",
       "\n",
       "Notes:\n",
       "[1] Standard Errors assume that the covariance matrix of the errors is correctly specified.\n",
       "\"\"\""
      ]
     },
     "execution_count": 15,
     "metadata": {},
     "output_type": "execute_result"
    }
   ],
   "source": [
    "# Getting the results summary:\n",
    "model.summary()"
   ]
  },
  {
   "cell_type": "markdown",
   "id": "04fa35ae-5574-4ee9-bf73-2bf77d1a80c9",
   "metadata": {},
   "source": [
    "### 2.2. Manually predicting house prices"
   ]
  },
  {
   "cell_type": "markdown",
   "id": "d0899acb-3c3d-4fb8-a7bf-9cdd2aa6c5c8",
   "metadata": {},
   "source": [
    "You can manually calculate the predictions from the model coefficients. When making predictions in real life, it is better to use .predict(), but doing this manually is helpful to reassure yourself that predictions aren't magic - they are simply arithmetic.\n",
    "\n",
    "In fact, for a simple linear regression, the predicted value is just the intercept plus the slope times the explanatory variable."
   ]
  },
  {
   "cell_type": "markdown",
   "id": "7490df3f-26b3-4976-a111-6e1071947ece",
   "metadata": {},
   "source": [
    "- Get the coefficients/parameters of mdl_price_vs_conv, assigning to coeffs.\n",
    "- Get the intercept, which is the first element of coeffs, assigning to intercept.\n",
    "- Get the slope, which is the second element of coeffs, assigning to slope.\n",
    "- Manually predict price_twd_msq using the formula, specifying the intercept, slope, and explanatory_data.\n",
    "- Run the code to compare your manually calculated predictions to the results from .predict()."
   ]
  },
  {
   "cell_type": "code",
   "execution_count": 16,
   "id": "9453c13b-1cee-473c-945d-7eeb4d774bc3",
   "metadata": {},
   "outputs": [
    {
     "data": {
      "text/plain": [
       "(8.224237452790334, 0.798079716612508)"
      ]
     },
     "execution_count": 16,
     "metadata": {},
     "output_type": "execute_result"
    }
   ],
   "source": [
    "# Getting the intercept and slope:\n",
    "intercept, slope = model.params\n",
    "intercept, slope"
   ]
  },
  {
   "cell_type": "code",
   "execution_count": 17,
   "id": "f14e1135-249c-4c6e-b0e2-3347cb5cfc7e",
   "metadata": {},
   "outputs": [
    {
     "data": {
      "text/plain": [
       "0    16.205035\n",
       "1    15.406955\n",
       "2    12.214636\n",
       "3    12.214636\n",
       "4    12.214636\n",
       "Name: n_convenience, dtype: float64"
      ]
     },
     "execution_count": 17,
     "metadata": {},
     "output_type": "execute_result"
    }
   ],
   "source": [
    "# Making predictions manually:\n",
    "manual_prediction = intercept + taiwan_real_estate['n_convenience'] * slope\n",
    "manual_prediction.head()"
   ]
  },
  {
   "cell_type": "code",
   "execution_count": 18,
   "id": "4513d703-07b7-43ea-9fcf-3fc13574d3d8",
   "metadata": {},
   "outputs": [
    {
     "data": {
      "text/plain": [
       "0    16.205035\n",
       "1    15.406955\n",
       "2    12.214636\n",
       "3    12.214636\n",
       "4    12.214636\n",
       "dtype: float64"
      ]
     },
     "execution_count": 18,
     "metadata": {},
     "output_type": "execute_result"
    }
   ],
   "source": [
    "# Comparing the results:\n",
    "model.predict(taiwan_real_estate['n_convenience']).head()"
   ]
  },
  {
   "cell_type": "markdown",
   "id": "120b1d37-c7c7-4e7d-bc3e-c8ecff4fe78a",
   "metadata": {},
   "source": [
    "## 3. Regression to the mean"
   ]
  },
  {
   "cell_type": "markdown",
   "id": "f4fc087a-5ab1-4438-85c1-d1aa34e83f9b",
   "metadata": {},
   "source": [
    "### 3.1. Home run!"
   ]
  },
  {
   "cell_type": "markdown",
   "id": "1c057eec-89d2-4f46-9e3c-8f9193066da9",
   "metadata": {},
   "source": [
    "Regression to the mean is an important concept in many areas, including sports.\n",
    "\n",
    "Here you can see a dataset of baseball batting data in 2017 and 2018. Each point represents a player, and more home runs are better. A naive prediction might be that the performance in 2018 is the same as the performance in 2017. That is, a linear regression would lie on the \"y equals x\" line.\n",
    "\n",
    "Explore the plot and make predictions. What does regression to the mean say about the number of home runs in 2018 for a player who was very successful in 2017?"
   ]
  },
  {
   "attachments": {
    "ef024adf-050c-4f05-bf37-0c1b7b644001.png": {
     "image/png": "[encoded data removed]"
    }
   },
   "cell_type": "markdown",
   "id": "f953ebe7-af63-45c7-93ab-8fce47833a3d",
   "metadata": {},
   "source": [
    "![image.png](attachment:ef024adf-050c-4f05-bf37-0c1b7b644001.png)"
   ]
  },
  {
   "cell_type": "markdown",
   "id": "6cfe424f-4145-4eef-9e70-433a712f6e18",
   "metadata": {},
   "source": [
    "> - \n",
    "Someone who hit 40 home runs in 2017 is predicted to hit 10 fewer home runs the next year because regression to the mean states that, on average, extremely high values are not sustained."
   ]
  },
  {
   "cell_type": "markdown",
   "id": "b472982a-153a-4a2a-8c08-625f67c26959",
   "metadata": {},
   "source": [
    "### 3.2. Plotting consecutive portfolio returns"
   ]
  },
  {
   "cell_type": "markdown",
   "id": "b2c1d29d-5792-450b-9962-3e541521d994",
   "metadata": {},
   "source": [
    "Regression to the mean is also an important concept in investing. Here you'll look at the annual returns from investing in companies in the Standard and Poor 500 index (S&P 500), in 2018 and 2019.\n",
    "\n",
    "The sp500_yearly_returns dataset contains three columns:"
   ]
  },
  {
   "attachments": {
    "0fc40884-26ec-4079-ba5e-fb90de60c2f6.png": {
     "image/png": "[encoded data removed]"
    }
   },
   "cell_type": "markdown",
   "id": "babfa254-ec47-4dd4-b4ca-f7a9ecf6047f",
   "metadata": {},
   "source": [
    "![image.png](attachment:0fc40884-26ec-4079-ba5e-fb90de60c2f6.png)"
   ]
  },
  {
   "cell_type": "markdown",
   "id": "ca231157-cb60-40ce-b10e-9bce219f685c",
   "metadata": {},
   "source": [
    "A positive number for the return means the investment increased in value; negative means it lost value.\n",
    "\n",
    "Just as with baseball home runs, a naive prediction might be that the investment performance stays the same from year to year, lying on the y equals x line."
   ]
  },
  {
   "cell_type": "markdown",
   "id": "5cd11f1c-681e-4654-a298-e5004592d066",
   "metadata": {},
   "source": [
    "- Create a new figure, fig, to enable plot layering.\n",
    "- Generate a line at y equals x. This has been done for you.\n",
    "- Using sp500_yearly_returns, draw a scatter plot of return_2019 vs. return_2018 with a linear regression trend line, without a standard error ribbon.\n",
    "- Set the axes so that the distances along the x and y axes look the same."
   ]
  },
  {
   "cell_type": "code",
   "execution_count": 19,
   "id": "e8e5575c-2bea-45e6-9f83-e44648390440",
   "metadata": {},
   "outputs": [],
   "source": [
    "sp500_yearly_returns = pd.read_csv('../data/sp500_yearly_returns.csv')"
   ]
  },
  {
   "cell_type": "code",
   "execution_count": 20,
   "id": "64b572a7-03bb-4072-b238-e3091e074fd4",
   "metadata": {},
   "outputs": [
    {
     "data": {
      "text/html": [
       "<div>\n",
       "<style scoped>\n",
       "    .dataframe tbody tr th:only-of-type {\n",
       "        vertical-align: middle;\n",
       "    }\n",
       "\n",
       "    .dataframe tbody tr th {\n",
       "        vertical-align: top;\n",
       "    }\n",
       "\n",
       "    .dataframe thead th {\n",
       "        text-align: right;\n",
       "    }\n",
       "</style>\n",
       "<table border=\"1\" class=\"dataframe\">\n",
       "  <thead>\n",
       "    <tr style=\"text-align: right;\">\n",
       "      <th></th>\n",
       "      <th>symbol</th>\n",
       "      <th>return_2018</th>\n",
       "      <th>return_2019</th>\n",
       "    </tr>\n",
       "  </thead>\n",
       "  <tbody>\n",
       "    <tr>\n",
       "      <th>0</th>\n",
       "      <td>AAPL</td>\n",
       "      <td>-0.053902</td>\n",
       "      <td>0.889578</td>\n",
       "    </tr>\n",
       "    <tr>\n",
       "      <th>1</th>\n",
       "      <td>MSFT</td>\n",
       "      <td>0.207953</td>\n",
       "      <td>0.575581</td>\n",
       "    </tr>\n",
       "    <tr>\n",
       "      <th>2</th>\n",
       "      <td>AMZN</td>\n",
       "      <td>0.284317</td>\n",
       "      <td>0.230278</td>\n",
       "    </tr>\n",
       "    <tr>\n",
       "      <th>3</th>\n",
       "      <td>FB</td>\n",
       "      <td>-0.257112</td>\n",
       "      <td>0.565718</td>\n",
       "    </tr>\n",
       "    <tr>\n",
       "      <th>4</th>\n",
       "      <td>GOOGL</td>\n",
       "      <td>-0.008012</td>\n",
       "      <td>0.281762</td>\n",
       "    </tr>\n",
       "  </tbody>\n",
       "</table>\n",
       "</div>"
      ],
      "text/plain": [
       "  symbol  return_2018  return_2019\n",
       "0   AAPL    -0.053902     0.889578\n",
       "1   MSFT     0.207953     0.575581\n",
       "2   AMZN     0.284317     0.230278\n",
       "3     FB    -0.257112     0.565718\n",
       "4  GOOGL    -0.008012     0.281762"
      ]
     },
     "execution_count": 20,
     "metadata": {},
     "output_type": "execute_result"
    }
   ],
   "source": [
    "sp500_yearly_returns.head()"
   ]
  },
  {
   "cell_type": "code",
   "execution_count": 21,
   "id": "f009213d-5f8c-4daa-9079-1f254788ea7b",
   "metadata": {
    "tags": []
   },
   "outputs": [
    {
     "data": {
      "image/png": "[encoded data removed]",
      "text/plain": [
       "<Figure size 432x432 with 1 Axes>"
      ]
     },
     "metadata": {},
     "output_type": "display_data"
    }
   ],
   "source": [
    "# Plotting 2018 Vs. 2019 return:\n",
    "fig, ax = plt.subplots(figsize=(6, 6))\n",
    "ax.axline(xy1=(0, 0), slope=1, linewidth=2, color='green')\n",
    "sns.regplot(data=sp500_yearly_returns, x='return_2018', y='return_2019', ci=False, ax=ax)\n",
    "ax.axis('equal');"
   ]
  },
  {
   "cell_type": "markdown",
   "id": "9c482688-1806-4867-83de-c6a1859c0a4e",
   "metadata": {},
   "source": [
    "### 3.3. Modeling consecutive returns"
   ]
  },
  {
   "cell_type": "markdown",
   "id": "04c61636-89a0-4885-94a4-d37c8e7ff80a",
   "metadata": {},
   "source": [
    "Let's quantify the relationship between returns in 2019 and 2018 by running a linear regression and making predictions. By looking at companies with extremely high or extremely low returns in 2018, we can see if their performance was similar in 2019."
   ]
  },
  {
   "cell_type": "markdown",
   "id": "8e15b55b-f057-42e2-8092-e042194faa0c",
   "metadata": {},
   "source": [
    "- Run a linear regression on return_2019 versus return_2018 using sp500_yearly_returns and fit the model. Assign to mdl_returns.\n",
    "- Print the parameters of the model."
   ]
  },
  {
   "cell_type": "code",
   "execution_count": 22,
   "id": "f6d3bc06-2a7b-4c39-91b4-cfa25218b0a4",
   "metadata": {},
   "outputs": [
    {
     "data": {
      "text/html": [
       "<div>\n",
       "<style scoped>\n",
       "    .dataframe tbody tr th:only-of-type {\n",
       "        vertical-align: middle;\n",
       "    }\n",
       "\n",
       "    .dataframe tbody tr th {\n",
       "        vertical-align: top;\n",
       "    }\n",
       "\n",
       "    .dataframe thead th {\n",
       "        text-align: right;\n",
       "    }\n",
       "</style>\n",
       "<table border=\"1\" class=\"dataframe\">\n",
       "  <thead>\n",
       "    <tr style=\"text-align: right;\">\n",
       "      <th></th>\n",
       "      <th>symbol</th>\n",
       "      <th>return_2018</th>\n",
       "      <th>return_2019</th>\n",
       "    </tr>\n",
       "  </thead>\n",
       "  <tbody>\n",
       "    <tr>\n",
       "      <th>0</th>\n",
       "      <td>AAPL</td>\n",
       "      <td>-0.053902</td>\n",
       "      <td>0.889578</td>\n",
       "    </tr>\n",
       "    <tr>\n",
       "      <th>1</th>\n",
       "      <td>MSFT</td>\n",
       "      <td>0.207953</td>\n",
       "      <td>0.575581</td>\n",
       "    </tr>\n",
       "    <tr>\n",
       "      <th>2</th>\n",
       "      <td>AMZN</td>\n",
       "      <td>0.284317</td>\n",
       "      <td>0.230278</td>\n",
       "    </tr>\n",
       "    <tr>\n",
       "      <th>3</th>\n",
       "      <td>FB</td>\n",
       "      <td>-0.257112</td>\n",
       "      <td>0.565718</td>\n",
       "    </tr>\n",
       "    <tr>\n",
       "      <th>4</th>\n",
       "      <td>GOOGL</td>\n",
       "      <td>-0.008012</td>\n",
       "      <td>0.281762</td>\n",
       "    </tr>\n",
       "  </tbody>\n",
       "</table>\n",
       "</div>"
      ],
      "text/plain": [
       "  symbol  return_2018  return_2019\n",
       "0   AAPL    -0.053902     0.889578\n",
       "1   MSFT     0.207953     0.575581\n",
       "2   AMZN     0.284317     0.230278\n",
       "3     FB    -0.257112     0.565718\n",
       "4  GOOGL    -0.008012     0.281762"
      ]
     },
     "execution_count": 22,
     "metadata": {},
     "output_type": "execute_result"
    }
   ],
   "source": [
    "sp500_yearly_returns.head()"
   ]
  },
  {
   "cell_type": "code",
   "execution_count": 23,
   "id": "07890f3b-e1be-449d-835b-957c94c44afc",
   "metadata": {},
   "outputs": [],
   "source": [
    "# Initializing and fitting the model:\n",
    "model = ols(formula='return_2019 ~ return_2018', data=sp500_yearly_returns).fit()"
   ]
  },
  {
   "cell_type": "code",
   "execution_count": 24,
   "id": "8b0cd88a-fa62-4ecf-a25f-dee41351497c",
   "metadata": {},
   "outputs": [
    {
     "data": {
      "text/plain": [
       "Intercept      0.321321\n",
       "return_2018    0.020069\n",
       "dtype: float64"
      ]
     },
     "execution_count": 24,
     "metadata": {},
     "output_type": "execute_result"
    }
   ],
   "source": [
    "# Getting the model paramerters:\n",
    "model.params"
   ]
  },
  {
   "cell_type": "markdown",
   "id": "5326384e-a8c7-4c65-b75c-29693c33b3c6",
   "metadata": {},
   "source": [
    "- Create a DataFrame named explanatory_data. Give it one column (return_2018) with 2018 returns set to a list containing -1, 0, and 1.\n",
    "- Use mdl_returns to predict with explanatory_data in a print() call."
   ]
  },
  {
   "cell_type": "code",
   "execution_count": 25,
   "id": "6828e53a-498f-4ebf-ac60-b8961b513037",
   "metadata": {},
   "outputs": [
    {
     "data": {
      "text/plain": [
       "0    0.301251\n",
       "1    0.321321\n",
       "2    0.341390\n",
       "dtype: float64"
      ]
     },
     "execution_count": 25,
     "metadata": {},
     "output_type": "execute_result"
    }
   ],
   "source": [
    "# Making predictions:\n",
    "prediction_data = pd.DataFrame({'return_2018': [-1, 0, 1]})\n",
    "model.predict(prediction_data)"
   ]
  },
  {
   "cell_type": "markdown",
   "id": "8562cb9f-fb6a-43c1-ad40-b18a882e9ec5",
   "metadata": {},
   "source": [
    "## 4. Transforming variables"
   ]
  },
  {
   "cell_type": "markdown",
   "id": "c3a357ee-8e6a-48bb-abc8-f2edb10dea7c",
   "metadata": {},
   "source": [
    "### 4.1. Transforming the explanatory variable"
   ]
  },
  {
   "cell_type": "markdown",
   "id": "696d19f4-692d-4f87-83d3-2b365b8f86b8",
   "metadata": {},
   "source": [
    "If there is no straight-line relationship between the response variable and the explanatory variable, it is sometimes possible to create one by transforming one or both of the variables. Here, you'll look at transforming the explanatory variable.\n",
    "\n",
    "You'll take another look at the Taiwan real estate dataset, this time using the distance to the nearest MRT (metro) station as the explanatory variable. You'll use code to make every commuter's dream come true: shortening the distance to the metro station by taking the square root. Take that, geography!"
   ]
  },
  {
   "cell_type": "markdown",
   "id": "3a01957a-05bd-4301-9a8d-17233bee1b61",
   "metadata": {},
   "source": [
    "- Look at the plot.\n",
    "- Add a new column to taiwan_real_estate called sqrt_dist_to_mrt_m that contains the square root of dist_to_mrt_m.\n",
    "- Create the same scatter plot as the first one, but use the new transformed variable on the x-axis instead.\n",
    "- Look at the new plot. Notice how the numbers on the x-axis have changed. This is a different line to what was shown before. Do the points track the line more closely?"
   ]
  },
  {
   "cell_type": "code",
   "execution_count": 26,
   "id": "eb66f28b-b2d1-48b4-bc73-4ab5d9a64182",
   "metadata": {},
   "outputs": [
    {
     "data": {
      "text/html": [
       "<div>\n",
       "<style scoped>\n",
       "    .dataframe tbody tr th:only-of-type {\n",
       "        vertical-align: middle;\n",
       "    }\n",
       "\n",
       "    .dataframe tbody tr th {\n",
       "        vertical-align: top;\n",
       "    }\n",
       "\n",
       "    .dataframe thead th {\n",
       "        text-align: right;\n",
       "    }\n",
       "</style>\n",
       "<table border=\"1\" class=\"dataframe\">\n",
       "  <thead>\n",
       "    <tr style=\"text-align: right;\">\n",
       "      <th></th>\n",
       "      <th>dist_to_mrt_m</th>\n",
       "      <th>n_convenience</th>\n",
       "      <th>house_age_years</th>\n",
       "      <th>price_twd_msq</th>\n",
       "    </tr>\n",
       "  </thead>\n",
       "  <tbody>\n",
       "    <tr>\n",
       "      <th>0</th>\n",
       "      <td>84.87882</td>\n",
       "      <td>10</td>\n",
       "      <td>30 to 45</td>\n",
       "      <td>11.467474</td>\n",
       "    </tr>\n",
       "    <tr>\n",
       "      <th>1</th>\n",
       "      <td>306.59470</td>\n",
       "      <td>9</td>\n",
       "      <td>15 to 30</td>\n",
       "      <td>12.768533</td>\n",
       "    </tr>\n",
       "    <tr>\n",
       "      <th>2</th>\n",
       "      <td>561.98450</td>\n",
       "      <td>5</td>\n",
       "      <td>0 to 15</td>\n",
       "      <td>14.311649</td>\n",
       "    </tr>\n",
       "    <tr>\n",
       "      <th>3</th>\n",
       "      <td>561.98450</td>\n",
       "      <td>5</td>\n",
       "      <td>0 to 15</td>\n",
       "      <td>16.580938</td>\n",
       "    </tr>\n",
       "    <tr>\n",
       "      <th>4</th>\n",
       "      <td>390.56840</td>\n",
       "      <td>5</td>\n",
       "      <td>0 to 15</td>\n",
       "      <td>13.040847</td>\n",
       "    </tr>\n",
       "  </tbody>\n",
       "</table>\n",
       "</div>"
      ],
      "text/plain": [
       "   dist_to_mrt_m  n_convenience house_age_years  price_twd_msq\n",
       "0       84.87882             10        30 to 45      11.467474\n",
       "1      306.59470              9        15 to 30      12.768533\n",
       "2      561.98450              5         0 to 15      14.311649\n",
       "3      561.98450              5         0 to 15      16.580938\n",
       "4      390.56840              5         0 to 15      13.040847"
      ]
     },
     "execution_count": 26,
     "metadata": {},
     "output_type": "execute_result"
    }
   ],
   "source": [
    "taiwan_real_estate.head()"
   ]
  },
  {
   "cell_type": "code",
   "execution_count": 27,
   "id": "e01c02de-948c-4690-ae4f-07ff393a6657",
   "metadata": {},
   "outputs": [],
   "source": [
    "# Initializing and fitting the model:\n",
    "model = ols(formula='price_twd_msq ~ dist_to_mrt_m', data=taiwan_real_estate).fit()"
   ]
  },
  {
   "cell_type": "code",
   "execution_count": 28,
   "id": "df57270c-c46e-48a7-b302-3015b25d0811",
   "metadata": {},
   "outputs": [
    {
     "data": {
      "text/plain": [
       "Intercept        13.873352\n",
       "dist_to_mrt_m    -0.002197\n",
       "dtype: float64"
      ]
     },
     "execution_count": 28,
     "metadata": {},
     "output_type": "execute_result"
    }
   ],
   "source": [
    "# Getting the model paramerters:\n",
    "model.params"
   ]
  },
  {
   "cell_type": "code",
   "execution_count": 29,
   "id": "1f29038b-8d42-4ef0-a06e-314bd6086fda",
   "metadata": {},
   "outputs": [],
   "source": [
    "# Creating some data for prediction:\n",
    "dist_to_mrt_m = np.arange(0, 81, 10)**2\n",
    "prediction_data = pd.DataFrame({'dist_to_mrt_m': dist_to_mrt_m})"
   ]
  },
  {
   "cell_type": "code",
   "execution_count": 30,
   "id": "484aa2c2-70a8-4356-ad37-0841a93beb56",
   "metadata": {},
   "outputs": [],
   "source": [
    "# Making predictions:\n",
    "prediction_data['price_twd_msq_before'] = model.predict(prediction_data['dist_to_mrt_m'])"
   ]
  },
  {
   "cell_type": "code",
   "execution_count": 31,
   "id": "46a145a0-83ac-421a-894b-37f9d755bad3",
   "metadata": {},
   "outputs": [
    {
     "data": {
      "text/html": [
       "<div>\n",
       "<style scoped>\n",
       "    .dataframe tbody tr th:only-of-type {\n",
       "        vertical-align: middle;\n",
       "    }\n",
       "\n",
       "    .dataframe tbody tr th {\n",
       "        vertical-align: top;\n",
       "    }\n",
       "\n",
       "    .dataframe thead th {\n",
       "        text-align: right;\n",
       "    }\n",
       "</style>\n",
       "<table border=\"1\" class=\"dataframe\">\n",
       "  <thead>\n",
       "    <tr style=\"text-align: right;\">\n",
       "      <th></th>\n",
       "      <th>dist_to_mrt_m</th>\n",
       "      <th>price_twd_msq_before</th>\n",
       "    </tr>\n",
       "  </thead>\n",
       "  <tbody>\n",
       "    <tr>\n",
       "      <th>0</th>\n",
       "      <td>0</td>\n",
       "      <td>13.873352</td>\n",
       "    </tr>\n",
       "    <tr>\n",
       "      <th>1</th>\n",
       "      <td>100</td>\n",
       "      <td>13.653622</td>\n",
       "    </tr>\n",
       "    <tr>\n",
       "      <th>2</th>\n",
       "      <td>400</td>\n",
       "      <td>12.994435</td>\n",
       "    </tr>\n",
       "    <tr>\n",
       "      <th>3</th>\n",
       "      <td>900</td>\n",
       "      <td>11.895788</td>\n",
       "    </tr>\n",
       "    <tr>\n",
       "      <th>4</th>\n",
       "      <td>1600</td>\n",
       "      <td>10.357684</td>\n",
       "    </tr>\n",
       "  </tbody>\n",
       "</table>\n",
       "</div>"
      ],
      "text/plain": [
       "   dist_to_mrt_m  price_twd_msq_before\n",
       "0              0             13.873352\n",
       "1            100             13.653622\n",
       "2            400             12.994435\n",
       "3            900             11.895788\n",
       "4           1600             10.357684"
      ]
     },
     "execution_count": 31,
     "metadata": {},
     "output_type": "execute_result"
    }
   ],
   "source": [
    "prediction_data.head()"
   ]
  },
  {
   "cell_type": "code",
   "execution_count": 32,
   "id": "44ba763c-594d-4690-a53e-9a7dde99f0a7",
   "metadata": {},
   "outputs": [
    {
     "data": {
      "image/png": "[encoded data removed]",
      "text/plain": [
       "<Figure size 576x288 with 1 Axes>"
      ]
     },
     "metadata": {},
     "output_type": "display_data"
    }
   ],
   "source": [
    "# Plotting dist_to_mrt_m Vs. price_twd_msq with predictions:\n",
    "fig, ax = plt.subplots(figsize=(8, 4))\n",
    "sns.regplot(data=taiwan_real_estate, x='dist_to_mrt_m', y='price_twd_msq', ci=None, ax=ax)\n",
    "sns.scatterplot(data=prediction_data, x='dist_to_mrt_m', y='price_twd_msq_before', color='red', ax=ax);"
   ]
  },
  {
   "cell_type": "code",
   "execution_count": 33,
   "id": "84849003-ab67-46bf-b650-13b919494500",
   "metadata": {},
   "outputs": [],
   "source": [
    "# Transforing the explanatory variable:\n",
    "taiwan_real_estate['sqrt_dist_to_mrt_m'] = np.sqrt(taiwan_real_estate['dist_to_mrt_m'])"
   ]
  },
  {
   "cell_type": "code",
   "execution_count": 34,
   "id": "7af5644c-53cb-4023-880d-c86d755aa8a7",
   "metadata": {},
   "outputs": [
    {
     "data": {
      "text/html": [
       "<div>\n",
       "<style scoped>\n",
       "    .dataframe tbody tr th:only-of-type {\n",
       "        vertical-align: middle;\n",
       "    }\n",
       "\n",
       "    .dataframe tbody tr th {\n",
       "        vertical-align: top;\n",
       "    }\n",
       "\n",
       "    .dataframe thead th {\n",
       "        text-align: right;\n",
       "    }\n",
       "</style>\n",
       "<table border=\"1\" class=\"dataframe\">\n",
       "  <thead>\n",
       "    <tr style=\"text-align: right;\">\n",
       "      <th></th>\n",
       "      <th>dist_to_mrt_m</th>\n",
       "      <th>n_convenience</th>\n",
       "      <th>house_age_years</th>\n",
       "      <th>price_twd_msq</th>\n",
       "      <th>sqrt_dist_to_mrt_m</th>\n",
       "    </tr>\n",
       "  </thead>\n",
       "  <tbody>\n",
       "    <tr>\n",
       "      <th>0</th>\n",
       "      <td>84.87882</td>\n",
       "      <td>10</td>\n",
       "      <td>30 to 45</td>\n",
       "      <td>11.467474</td>\n",
       "      <td>9.212970</td>\n",
       "    </tr>\n",
       "    <tr>\n",
       "      <th>1</th>\n",
       "      <td>306.59470</td>\n",
       "      <td>9</td>\n",
       "      <td>15 to 30</td>\n",
       "      <td>12.768533</td>\n",
       "      <td>17.509846</td>\n",
       "    </tr>\n",
       "    <tr>\n",
       "      <th>2</th>\n",
       "      <td>561.98450</td>\n",
       "      <td>5</td>\n",
       "      <td>0 to 15</td>\n",
       "      <td>14.311649</td>\n",
       "      <td>23.706212</td>\n",
       "    </tr>\n",
       "    <tr>\n",
       "      <th>3</th>\n",
       "      <td>561.98450</td>\n",
       "      <td>5</td>\n",
       "      <td>0 to 15</td>\n",
       "      <td>16.580938</td>\n",
       "      <td>23.706212</td>\n",
       "    </tr>\n",
       "    <tr>\n",
       "      <th>4</th>\n",
       "      <td>390.56840</td>\n",
       "      <td>5</td>\n",
       "      <td>0 to 15</td>\n",
       "      <td>13.040847</td>\n",
       "      <td>19.762803</td>\n",
       "    </tr>\n",
       "  </tbody>\n",
       "</table>\n",
       "</div>"
      ],
      "text/plain": [
       "   dist_to_mrt_m  n_convenience house_age_years  price_twd_msq  \\\n",
       "0       84.87882             10        30 to 45      11.467474   \n",
       "1      306.59470              9        15 to 30      12.768533   \n",
       "2      561.98450              5         0 to 15      14.311649   \n",
       "3      561.98450              5         0 to 15      16.580938   \n",
       "4      390.56840              5         0 to 15      13.040847   \n",
       "\n",
       "   sqrt_dist_to_mrt_m  \n",
       "0            9.212970  \n",
       "1           17.509846  \n",
       "2           23.706212  \n",
       "3           23.706212  \n",
       "4           19.762803  "
      ]
     },
     "execution_count": 34,
     "metadata": {},
     "output_type": "execute_result"
    }
   ],
   "source": [
    "taiwan_real_estate.head()"
   ]
  },
  {
   "cell_type": "code",
   "execution_count": 35,
   "id": "c1635f4f-b4a3-4815-b22b-b37f89aca439",
   "metadata": {},
   "outputs": [
    {
     "data": {
      "image/png": "[encoded data removed]",
      "text/plain": [
       "<Figure size 1152x288 with 2 Axes>"
      ]
     },
     "metadata": {},
     "output_type": "display_data"
    }
   ],
   "source": [
    "# Plotting sqrt_dist_to_mrt_m Vs. price_twd_msq:\n",
    "fig, (ax1, ax2) = plt.subplots(1, 2, figsize=(16, 4))\n",
    "sns.regplot(data=taiwan_real_estate, x='dist_to_mrt_m', y='price_twd_msq', ci=None, ax=ax1)\n",
    "sns.regplot(data=taiwan_real_estate, x='sqrt_dist_to_mrt_m', y='price_twd_msq', ci=None, ax=ax2);"
   ]
  },
  {
   "cell_type": "markdown",
   "id": "d755f59d-137e-443e-8d5a-e4d86c55efdd",
   "metadata": {},
   "source": [
    "- Run a linear regression of price_twd_msq versus the square root of dist_to_mrt_m using taiwan_real_estate.\n",
    "- Print the parameters."
   ]
  },
  {
   "cell_type": "code",
   "execution_count": 36,
   "id": "c6581e0c-eb5d-4d67-80c5-8447dd1d150b",
   "metadata": {},
   "outputs": [],
   "source": [
    "# Initializing and fitting the model:\n",
    "model = ols(formula='price_twd_msq ~ sqrt_dist_to_mrt_m', data=taiwan_real_estate).fit()"
   ]
  },
  {
   "cell_type": "code",
   "execution_count": 37,
   "id": "f41c547b-9939-46fb-922f-ecd0488167df",
   "metadata": {},
   "outputs": [
    {
     "data": {
      "text/plain": [
       "Intercept             16.709799\n",
       "sqrt_dist_to_mrt_m    -0.182843\n",
       "dtype: float64"
      ]
     },
     "execution_count": 37,
     "metadata": {},
     "output_type": "execute_result"
    }
   ],
   "source": [
    "# Getting the model paramerters:\n",
    "model.params"
   ]
  },
  {
   "cell_type": "markdown",
   "id": "44fb0e72-6b4f-4135-b2b7-d338a32980b5",
   "metadata": {},
   "source": [
    "- Create a DataFrame of predictions named prediction_data by adding a column of predictions called price_twd_msq to explanatory_data. Predict using mdl_price_vs_dist and explanatory_data.\n",
    "- Print the predictions."
   ]
  },
  {
   "cell_type": "code",
   "execution_count": 38,
   "id": "98ffdb7a-71b6-4c1a-8eb2-56802e38cd4b",
   "metadata": {},
   "outputs": [],
   "source": [
    "# Creating some data for prediction:\n",
    "prediction_data['sqrt_dist_to_mrt_m'] = np.sqrt(prediction_data['dist_to_mrt_m'])"
   ]
  },
  {
   "cell_type": "code",
   "execution_count": 39,
   "id": "baa535a2-0231-4f37-88e0-defe8d4ed5be",
   "metadata": {},
   "outputs": [
    {
     "data": {
      "text/html": [
       "<div>\n",
       "<style scoped>\n",
       "    .dataframe tbody tr th:only-of-type {\n",
       "        vertical-align: middle;\n",
       "    }\n",
       "\n",
       "    .dataframe tbody tr th {\n",
       "        vertical-align: top;\n",
       "    }\n",
       "\n",
       "    .dataframe thead th {\n",
       "        text-align: right;\n",
       "    }\n",
       "</style>\n",
       "<table border=\"1\" class=\"dataframe\">\n",
       "  <thead>\n",
       "    <tr style=\"text-align: right;\">\n",
       "      <th></th>\n",
       "      <th>dist_to_mrt_m</th>\n",
       "      <th>price_twd_msq_before</th>\n",
       "      <th>sqrt_dist_to_mrt_m</th>\n",
       "    </tr>\n",
       "  </thead>\n",
       "  <tbody>\n",
       "    <tr>\n",
       "      <th>0</th>\n",
       "      <td>0</td>\n",
       "      <td>13.873352</td>\n",
       "      <td>0.0</td>\n",
       "    </tr>\n",
       "    <tr>\n",
       "      <th>1</th>\n",
       "      <td>100</td>\n",
       "      <td>13.653622</td>\n",
       "      <td>10.0</td>\n",
       "    </tr>\n",
       "    <tr>\n",
       "      <th>2</th>\n",
       "      <td>400</td>\n",
       "      <td>12.994435</td>\n",
       "      <td>20.0</td>\n",
       "    </tr>\n",
       "    <tr>\n",
       "      <th>3</th>\n",
       "      <td>900</td>\n",
       "      <td>11.895788</td>\n",
       "      <td>30.0</td>\n",
       "    </tr>\n",
       "    <tr>\n",
       "      <th>4</th>\n",
       "      <td>1600</td>\n",
       "      <td>10.357684</td>\n",
       "      <td>40.0</td>\n",
       "    </tr>\n",
       "  </tbody>\n",
       "</table>\n",
       "</div>"
      ],
      "text/plain": [
       "   dist_to_mrt_m  price_twd_msq_before  sqrt_dist_to_mrt_m\n",
       "0              0             13.873352                 0.0\n",
       "1            100             13.653622                10.0\n",
       "2            400             12.994435                20.0\n",
       "3            900             11.895788                30.0\n",
       "4           1600             10.357684                40.0"
      ]
     },
     "execution_count": 39,
     "metadata": {},
     "output_type": "execute_result"
    }
   ],
   "source": [
    "prediction_data.head()"
   ]
  },
  {
   "cell_type": "code",
   "execution_count": 40,
   "id": "76a4c1b6-0ffc-4db9-aca2-548817d0d5fb",
   "metadata": {},
   "outputs": [],
   "source": [
    "# Making predictions:\n",
    "prediction_data['price_twd_msq_after'] = model.predict(prediction_data['sqrt_dist_to_mrt_m'])"
   ]
  },
  {
   "cell_type": "code",
   "execution_count": 41,
   "id": "b5f4e110-badc-4436-8076-22d9d8e0f216",
   "metadata": {},
   "outputs": [
    {
     "data": {
      "text/html": [
       "<div>\n",
       "<style scoped>\n",
       "    .dataframe tbody tr th:only-of-type {\n",
       "        vertical-align: middle;\n",
       "    }\n",
       "\n",
       "    .dataframe tbody tr th {\n",
       "        vertical-align: top;\n",
       "    }\n",
       "\n",
       "    .dataframe thead th {\n",
       "        text-align: right;\n",
       "    }\n",
       "</style>\n",
       "<table border=\"1\" class=\"dataframe\">\n",
       "  <thead>\n",
       "    <tr style=\"text-align: right;\">\n",
       "      <th></th>\n",
       "      <th>dist_to_mrt_m</th>\n",
       "      <th>price_twd_msq_before</th>\n",
       "      <th>sqrt_dist_to_mrt_m</th>\n",
       "      <th>price_twd_msq_after</th>\n",
       "    </tr>\n",
       "  </thead>\n",
       "  <tbody>\n",
       "    <tr>\n",
       "      <th>0</th>\n",
       "      <td>0</td>\n",
       "      <td>13.873352</td>\n",
       "      <td>0.0</td>\n",
       "      <td>16.709799</td>\n",
       "    </tr>\n",
       "    <tr>\n",
       "      <th>1</th>\n",
       "      <td>100</td>\n",
       "      <td>13.653622</td>\n",
       "      <td>10.0</td>\n",
       "      <td>14.881370</td>\n",
       "    </tr>\n",
       "    <tr>\n",
       "      <th>2</th>\n",
       "      <td>400</td>\n",
       "      <td>12.994435</td>\n",
       "      <td>20.0</td>\n",
       "      <td>13.052942</td>\n",
       "    </tr>\n",
       "    <tr>\n",
       "      <th>3</th>\n",
       "      <td>900</td>\n",
       "      <td>11.895788</td>\n",
       "      <td>30.0</td>\n",
       "      <td>11.224513</td>\n",
       "    </tr>\n",
       "    <tr>\n",
       "      <th>4</th>\n",
       "      <td>1600</td>\n",
       "      <td>10.357684</td>\n",
       "      <td>40.0</td>\n",
       "      <td>9.396085</td>\n",
       "    </tr>\n",
       "  </tbody>\n",
       "</table>\n",
       "</div>"
      ],
      "text/plain": [
       "   dist_to_mrt_m  price_twd_msq_before  sqrt_dist_to_mrt_m  \\\n",
       "0              0             13.873352                 0.0   \n",
       "1            100             13.653622                10.0   \n",
       "2            400             12.994435                20.0   \n",
       "3            900             11.895788                30.0   \n",
       "4           1600             10.357684                40.0   \n",
       "\n",
       "   price_twd_msq_after  \n",
       "0            16.709799  \n",
       "1            14.881370  \n",
       "2            13.052942  \n",
       "3            11.224513  \n",
       "4             9.396085  "
      ]
     },
     "execution_count": 41,
     "metadata": {},
     "output_type": "execute_result"
    }
   ],
   "source": [
    "prediction_data.head()"
   ]
  },
  {
   "cell_type": "markdown",
   "id": "1ef7312b-dea3-4fcc-bd2b-d488828b223f",
   "metadata": {},
   "source": [
    "- Add a layer to your plot containing points from prediction_data, colored \"red\"."
   ]
  },
  {
   "cell_type": "code",
   "execution_count": 42,
   "id": "b48351e5-3450-4e59-8ad7-9b0667fb9d35",
   "metadata": {},
   "outputs": [
    {
     "data": {
      "image/png": "[encoded data removed]",
      "text/plain": [
       "<Figure size 576x288 with 1 Axes>"
      ]
     },
     "metadata": {},
     "output_type": "display_data"
    }
   ],
   "source": [
    "# Plotting sqrt_dist_to_mrt_m Vs. price_twd_msq with predictions:\n",
    "fig, ax = plt.subplots(figsize=(8, 4))\n",
    "sns.regplot(data=taiwan_real_estate, x='sqrt_dist_to_mrt_m', y='price_twd_msq', ci=None, ax=ax)\n",
    "sns.scatterplot(data=prediction_data, x='sqrt_dist_to_mrt_m', y='price_twd_msq_after', color='red', ax=ax);"
   ]
  },
  {
   "cell_type": "markdown",
   "id": "a7a351a3-dce5-4831-9d03-448136e90845",
   "metadata": {},
   "source": [
    "### 4.2. Transforming the response variable too"
   ]
  },
  {
   "cell_type": "markdown",
   "id": "39609c85-795c-4857-bc60-ca37da284307",
   "metadata": {},
   "source": [
    "The response variable can be transformed too, but this means you need an extra step at the end to undo that transformation. That is, you \"back transform\" the predictions.\n",
    "\n",
    "In the video, you saw the first step of the digital advertising workflow: spending money to buy ads, and counting how many people see them (the \"impressions\"). The next step is determining how many people click on the advert after seeing it."
   ]
  },
  {
   "cell_type": "markdown",
   "id": "10ebb150-ed80-4fb0-9cc3-95d52afc7de8",
   "metadata": {},
   "source": [
    "- Look at the plot.\n",
    "- Create a qdrt_n_impressions column using n_impressions raised to the power of 0.25.\n",
    "- Create a qdrt_n_clicks column using n_clicks raised to the power of 0.25.\n",
    "- Create a regression plot using the transformed variables. Do the points track the line more closely?"
   ]
  },
  {
   "cell_type": "code",
   "execution_count": 43,
   "id": "4d425f14-3158-46d7-b168-7b8746fe4d82",
   "metadata": {},
   "outputs": [],
   "source": [
    "ad_conversion = pd.read_csv('../data/ad_conversion.csv')"
   ]
  },
  {
   "cell_type": "code",
   "execution_count": 44,
   "id": "fcfa49ab-968c-42c9-81fe-d4374f6304ce",
   "metadata": {},
   "outputs": [
    {
     "data": {
      "text/html": [
       "<div>\n",
       "<style scoped>\n",
       "    .dataframe tbody tr th:only-of-type {\n",
       "        vertical-align: middle;\n",
       "    }\n",
       "\n",
       "    .dataframe tbody tr th {\n",
       "        vertical-align: top;\n",
       "    }\n",
       "\n",
       "    .dataframe thead th {\n",
       "        text-align: right;\n",
       "    }\n",
       "</style>\n",
       "<table border=\"1\" class=\"dataframe\">\n",
       "  <thead>\n",
       "    <tr style=\"text-align: right;\">\n",
       "      <th></th>\n",
       "      <th>spent_usd</th>\n",
       "      <th>n_impressions</th>\n",
       "      <th>n_clicks</th>\n",
       "    </tr>\n",
       "  </thead>\n",
       "  <tbody>\n",
       "    <tr>\n",
       "      <th>0</th>\n",
       "      <td>1.43</td>\n",
       "      <td>7350</td>\n",
       "      <td>1</td>\n",
       "    </tr>\n",
       "    <tr>\n",
       "      <th>1</th>\n",
       "      <td>1.82</td>\n",
       "      <td>17861</td>\n",
       "      <td>2</td>\n",
       "    </tr>\n",
       "    <tr>\n",
       "      <th>2</th>\n",
       "      <td>1.25</td>\n",
       "      <td>4259</td>\n",
       "      <td>1</td>\n",
       "    </tr>\n",
       "    <tr>\n",
       "      <th>3</th>\n",
       "      <td>1.29</td>\n",
       "      <td>4133</td>\n",
       "      <td>1</td>\n",
       "    </tr>\n",
       "    <tr>\n",
       "      <th>4</th>\n",
       "      <td>4.77</td>\n",
       "      <td>15615</td>\n",
       "      <td>3</td>\n",
       "    </tr>\n",
       "  </tbody>\n",
       "</table>\n",
       "</div>"
      ],
      "text/plain": [
       "   spent_usd  n_impressions  n_clicks\n",
       "0       1.43           7350         1\n",
       "1       1.82          17861         2\n",
       "2       1.25           4259         1\n",
       "3       1.29           4133         1\n",
       "4       4.77          15615         3"
      ]
     },
     "execution_count": 44,
     "metadata": {},
     "output_type": "execute_result"
    }
   ],
   "source": [
    "ad_conversion.head()"
   ]
  },
  {
   "cell_type": "code",
   "execution_count": 45,
   "id": "9463ae19-0c3a-477e-90bb-84bd397490e6",
   "metadata": {},
   "outputs": [],
   "source": [
    "ad_conversion['qdrt_n_impressions'] = ad_conversion['n_impressions']**0.25\n",
    "ad_conversion['qdrt_n_clicks'] = ad_conversion['n_clicks']**0.25"
   ]
  },
  {
   "cell_type": "code",
   "execution_count": 46,
   "id": "e91bb992-f48c-49fa-83a8-1605ada555de",
   "metadata": {},
   "outputs": [
    {
     "data": {
      "text/html": [
       "<div>\n",
       "<style scoped>\n",
       "    .dataframe tbody tr th:only-of-type {\n",
       "        vertical-align: middle;\n",
       "    }\n",
       "\n",
       "    .dataframe tbody tr th {\n",
       "        vertical-align: top;\n",
       "    }\n",
       "\n",
       "    .dataframe thead th {\n",
       "        text-align: right;\n",
       "    }\n",
       "</style>\n",
       "<table border=\"1\" class=\"dataframe\">\n",
       "  <thead>\n",
       "    <tr style=\"text-align: right;\">\n",
       "      <th></th>\n",
       "      <th>spent_usd</th>\n",
       "      <th>n_impressions</th>\n",
       "      <th>n_clicks</th>\n",
       "      <th>qdrt_n_impressions</th>\n",
       "      <th>qdrt_n_clicks</th>\n",
       "    </tr>\n",
       "  </thead>\n",
       "  <tbody>\n",
       "    <tr>\n",
       "      <th>0</th>\n",
       "      <td>1.43</td>\n",
       "      <td>7350</td>\n",
       "      <td>1</td>\n",
       "      <td>9.259165</td>\n",
       "      <td>1.000000</td>\n",
       "    </tr>\n",
       "    <tr>\n",
       "      <th>1</th>\n",
       "      <td>1.82</td>\n",
       "      <td>17861</td>\n",
       "      <td>2</td>\n",
       "      <td>11.560495</td>\n",
       "      <td>1.189207</td>\n",
       "    </tr>\n",
       "    <tr>\n",
       "      <th>2</th>\n",
       "      <td>1.25</td>\n",
       "      <td>4259</td>\n",
       "      <td>1</td>\n",
       "      <td>8.078429</td>\n",
       "      <td>1.000000</td>\n",
       "    </tr>\n",
       "    <tr>\n",
       "      <th>3</th>\n",
       "      <td>1.29</td>\n",
       "      <td>4133</td>\n",
       "      <td>1</td>\n",
       "      <td>8.018006</td>\n",
       "      <td>1.000000</td>\n",
       "    </tr>\n",
       "    <tr>\n",
       "      <th>4</th>\n",
       "      <td>4.77</td>\n",
       "      <td>15615</td>\n",
       "      <td>3</td>\n",
       "      <td>11.178551</td>\n",
       "      <td>1.316074</td>\n",
       "    </tr>\n",
       "  </tbody>\n",
       "</table>\n",
       "</div>"
      ],
      "text/plain": [
       "   spent_usd  n_impressions  n_clicks  qdrt_n_impressions  qdrt_n_clicks\n",
       "0       1.43           7350         1            9.259165       1.000000\n",
       "1       1.82          17861         2           11.560495       1.189207\n",
       "2       1.25           4259         1            8.078429       1.000000\n",
       "3       1.29           4133         1            8.018006       1.000000\n",
       "4       4.77          15615         3           11.178551       1.316074"
      ]
     },
     "execution_count": 46,
     "metadata": {},
     "output_type": "execute_result"
    }
   ],
   "source": [
    "ad_conversion.head()"
   ]
  },
  {
   "cell_type": "code",
   "execution_count": 47,
   "id": "df974edf-cafc-418b-a8c1-7b2e60ae9285",
   "metadata": {},
   "outputs": [
    {
     "data": {
      "image/png": "[encoded data removed]",
      "text/plain": [
       "<Figure size 1152x288 with 2 Axes>"
      ]
     },
     "metadata": {},
     "output_type": "display_data"
    }
   ],
   "source": [
    "# Plotting qdrt_n_impressions Vs. qdrt_n_clicks:\n",
    "fig, (ax1, ax2) = plt.subplots(1, 2, figsize=(16, 4))\n",
    "sns.regplot(data=ad_conversion, x='n_impressions', y='n_clicks', ci=None, ax=ax1)\n",
    "sns.regplot(data=ad_conversion, x='qdrt_n_impressions', y='qdrt_n_clicks', ci=None, ax=ax2);"
   ]
  },
  {
   "cell_type": "markdown",
   "id": "eab10604-ef3c-4076-95aa-182579c67f9e",
   "metadata": {},
   "source": [
    "- Run a linear regression of qdrt_n_clicks versus qdrt_n_impressions using ad_conversion and assign it to mdl_click_vs_impression."
   ]
  },
  {
   "cell_type": "code",
   "execution_count": 48,
   "id": "40273997-db93-4ea5-8868-93a97882a593",
   "metadata": {},
   "outputs": [],
   "source": [
    "# Initializing and fitting the model:\n",
    "model = ols(formula='qdrt_n_clicks ~ qdrt_n_impressions', data=ad_conversion).fit()"
   ]
  },
  {
   "cell_type": "code",
   "execution_count": 49,
   "id": "e7492572-e901-45c9-99da-2bc0cdf52c4b",
   "metadata": {},
   "outputs": [
    {
     "data": {
      "text/plain": [
       "Intercept             0.071748\n",
       "qdrt_n_impressions    0.111533\n",
       "dtype: float64"
      ]
     },
     "execution_count": 49,
     "metadata": {},
     "output_type": "execute_result"
    }
   ],
   "source": [
    "# Getting the model paramerters:\n",
    "model.params"
   ]
  },
  {
   "cell_type": "markdown",
   "id": "c99f6b95-4b3e-4595-ba5d-0c3c5c57bdfa",
   "metadata": {},
   "source": [
    "- Complete the code to create the prediction data."
   ]
  },
  {
   "cell_type": "code",
   "execution_count": 50,
   "id": "58bdf189-890f-46cc-97b1-ddf3bf40f326",
   "metadata": {},
   "outputs": [],
   "source": [
    "# Creating some data for prediction:\n",
    "n_impressions = np.arange(0, 3e6+1, 5e5)\n",
    "qdrt_n_impressions = n_impressions ** 0.25\n",
    "prediction_data = pd.DataFrame({'n_impressions': n_impressions, 'qdrt_n_impressions': qdrt_n_impressions})"
   ]
  },
  {
   "cell_type": "code",
   "execution_count": 51,
   "id": "c5009bd4-4ed0-4f3b-89c2-398ec4c8244a",
   "metadata": {},
   "outputs": [
    {
     "data": {
      "text/html": [
       "<div>\n",
       "<style scoped>\n",
       "    .dataframe tbody tr th:only-of-type {\n",
       "        vertical-align: middle;\n",
       "    }\n",
       "\n",
       "    .dataframe tbody tr th {\n",
       "        vertical-align: top;\n",
       "    }\n",
       "\n",
       "    .dataframe thead th {\n",
       "        text-align: right;\n",
       "    }\n",
       "</style>\n",
       "<table border=\"1\" class=\"dataframe\">\n",
       "  <thead>\n",
       "    <tr style=\"text-align: right;\">\n",
       "      <th></th>\n",
       "      <th>n_impressions</th>\n",
       "      <th>qdrt_n_impressions</th>\n",
       "    </tr>\n",
       "  </thead>\n",
       "  <tbody>\n",
       "    <tr>\n",
       "      <th>0</th>\n",
       "      <td>0.0</td>\n",
       "      <td>0.000000</td>\n",
       "    </tr>\n",
       "    <tr>\n",
       "      <th>1</th>\n",
       "      <td>500000.0</td>\n",
       "      <td>26.591479</td>\n",
       "    </tr>\n",
       "    <tr>\n",
       "      <th>2</th>\n",
       "      <td>1000000.0</td>\n",
       "      <td>31.622777</td>\n",
       "    </tr>\n",
       "    <tr>\n",
       "      <th>3</th>\n",
       "      <td>1500000.0</td>\n",
       "      <td>34.996355</td>\n",
       "    </tr>\n",
       "    <tr>\n",
       "      <th>4</th>\n",
       "      <td>2000000.0</td>\n",
       "      <td>37.606031</td>\n",
       "    </tr>\n",
       "  </tbody>\n",
       "</table>\n",
       "</div>"
      ],
      "text/plain": [
       "   n_impressions  qdrt_n_impressions\n",
       "0            0.0            0.000000\n",
       "1       500000.0           26.591479\n",
       "2      1000000.0           31.622777\n",
       "3      1500000.0           34.996355\n",
       "4      2000000.0           37.606031"
      ]
     },
     "execution_count": 51,
     "metadata": {},
     "output_type": "execute_result"
    }
   ],
   "source": [
    "prediction_data.head()"
   ]
  },
  {
   "cell_type": "markdown",
   "id": "53aa342b-1ede-4162-b0cc-eafa53b9de9d",
   "metadata": {},
   "source": [
    "### 4.3. Back transformation"
   ]
  },
  {
   "cell_type": "markdown",
   "id": "b8c55044-8531-474f-a391-40714eea4051",
   "metadata": {},
   "source": [
    "In the previous exercise, you transformed the response variable, ran a regression, and made predictions. But you're not done yet! In order to correctly interpret and visualize your predictions, you'll need to do a back-transformation."
   ]
  },
  {
   "cell_type": "markdown",
   "id": "f07de69c-d41d-4db2-be65-f1e912597a96",
   "metadata": {},
   "source": [
    "- Back transform the response variable in prediction_data by raising qdrt_n_clicks to the power 4 to get n_clicks."
   ]
  },
  {
   "cell_type": "code",
   "execution_count": 52,
   "id": "76b3f81b-aac6-489f-9f7e-71d2ba896a2b",
   "metadata": {},
   "outputs": [],
   "source": [
    "# Back transformation:\n",
    "prediction_data['qdrt_n_clicks'] = model.predict(prediction_data['qdrt_n_impressions'])\n",
    "prediction_data['n_clicks'] = prediction_data['qdrt_n_clicks'] ** 4"
   ]
  },
  {
   "cell_type": "code",
   "execution_count": 53,
   "id": "11e07c30-fc40-4c67-b4c8-c20a3b784b65",
   "metadata": {},
   "outputs": [
    {
     "data": {
      "text/html": [
       "<div>\n",
       "<style scoped>\n",
       "    .dataframe tbody tr th:only-of-type {\n",
       "        vertical-align: middle;\n",
       "    }\n",
       "\n",
       "    .dataframe tbody tr th {\n",
       "        vertical-align: top;\n",
       "    }\n",
       "\n",
       "    .dataframe thead th {\n",
       "        text-align: right;\n",
       "    }\n",
       "</style>\n",
       "<table border=\"1\" class=\"dataframe\">\n",
       "  <thead>\n",
       "    <tr style=\"text-align: right;\">\n",
       "      <th></th>\n",
       "      <th>n_impressions</th>\n",
       "      <th>qdrt_n_impressions</th>\n",
       "      <th>qdrt_n_clicks</th>\n",
       "      <th>n_clicks</th>\n",
       "    </tr>\n",
       "  </thead>\n",
       "  <tbody>\n",
       "    <tr>\n",
       "      <th>0</th>\n",
       "      <td>0.0</td>\n",
       "      <td>0.000000</td>\n",
       "      <td>0.071748</td>\n",
       "      <td>0.000026</td>\n",
       "    </tr>\n",
       "    <tr>\n",
       "      <th>1</th>\n",
       "      <td>500000.0</td>\n",
       "      <td>26.591479</td>\n",
       "      <td>3.037576</td>\n",
       "      <td>85.135121</td>\n",
       "    </tr>\n",
       "    <tr>\n",
       "      <th>2</th>\n",
       "      <td>1000000.0</td>\n",
       "      <td>31.622777</td>\n",
       "      <td>3.598732</td>\n",
       "      <td>167.725102</td>\n",
       "    </tr>\n",
       "    <tr>\n",
       "      <th>3</th>\n",
       "      <td>1500000.0</td>\n",
       "      <td>34.996355</td>\n",
       "      <td>3.974998</td>\n",
       "      <td>249.659131</td>\n",
       "    </tr>\n",
       "    <tr>\n",
       "      <th>4</th>\n",
       "      <td>2000000.0</td>\n",
       "      <td>37.606031</td>\n",
       "      <td>4.266063</td>\n",
       "      <td>331.214159</td>\n",
       "    </tr>\n",
       "  </tbody>\n",
       "</table>\n",
       "</div>"
      ],
      "text/plain": [
       "   n_impressions  qdrt_n_impressions  qdrt_n_clicks    n_clicks\n",
       "0            0.0            0.000000       0.071748    0.000026\n",
       "1       500000.0           26.591479       3.037576   85.135121\n",
       "2      1000000.0           31.622777       3.598732  167.725102\n",
       "3      1500000.0           34.996355       3.974998  249.659131\n",
       "4      2000000.0           37.606031       4.266063  331.214159"
      ]
     },
     "execution_count": 53,
     "metadata": {},
     "output_type": "execute_result"
    }
   ],
   "source": [
    "prediction_data.head()"
   ]
  },
  {
   "cell_type": "code",
   "execution_count": 54,
   "id": "b072f235-1bd8-428d-8bf6-113fd1e23b8f",
   "metadata": {},
   "outputs": [
    {
     "data": {
      "image/png": "[encoded data removed]",
      "text/plain": [
       "<Figure size 576x288 with 1 Axes>"
      ]
     },
     "metadata": {},
     "output_type": "display_data"
    }
   ],
   "source": [
    "# Plotting qdrt_n_impressions Vs. qdrt_n_clicks with predictions:\n",
    "fig, ax = plt.subplots(figsize=(8, 4))\n",
    "sns.regplot(data=ad_conversion, x='qdrt_n_impressions', y='qdrt_n_clicks', ci=None, ax=ax)\n",
    "sns.scatterplot(data=prediction_data, x='qdrt_n_impressions', y='qdrt_n_clicks', color='red', ax=ax);"
   ]
  },
  {
   "cell_type": "code",
   "execution_count": null,
   "id": "dbbb2875-3d43-4ad9-bf72-6a5fe7fb9825",
   "metadata": {},
   "outputs": [],
   "source": []
  }
 ],
 "metadata": {
  "kernelspec": {
   "display_name": "Python 3 (ipykernel)",
   "language": "python",
   "name": "python3"
  },
  "language_info": {
   "codemirror_mode": {
    "name": "ipython",
    "version": 3
   },
   "file_extension": ".py",
   "mimetype": "text/x-python",
   "name": "python",
   "nbconvert_exporter": "python",
   "pygments_lexer": "ipython3",
   "version": "3.9.6"
  }
 },
 "nbformat": 4,
 "nbformat_minor": 5
}
