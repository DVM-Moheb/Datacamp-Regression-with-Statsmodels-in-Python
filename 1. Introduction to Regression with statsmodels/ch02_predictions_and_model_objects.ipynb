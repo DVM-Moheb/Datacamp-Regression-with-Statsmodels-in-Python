{
 "cells": [
  {
   "cell_type": "code",
   "execution_count": 1,
   "id": "08c10a6d-e660-42f8-a4af-3634550baea3",
   "metadata": {},
   "outputs": [],
   "source": [
    "import numpy as np\n",
    "np.random.seed(42)\n",
    "import matplotlib.pyplot as plt\n",
    "%matplotlib inline\n",
    "import pandas as pd\n",
    "import seaborn as sns\n",
    "sns.set()\n",
    "from statsmodels.formula.api import ols"
   ]
  },
  {
   "cell_type": "markdown",
   "id": "1b1f2cb3-b873-4279-88f1-c56b1c573295",
   "metadata": {},
   "source": [
    "## 1. Making predictions"
   ]
  },
  {
   "cell_type": "markdown",
   "id": "1941f60b-1e30-4aba-83e0-20737bad3c0d",
   "metadata": {},
   "source": [
    "### 1.1. Predicting house prices"
   ]
  },
  {
   "cell_type": "code",
   "execution_count": 2,
   "id": "37234ac7-ae5f-46df-9673-e451a85967bc",
   "metadata": {},
   "outputs": [],
   "source": [
    "taiwan_real_estate = pd.read_csv('../data/taiwan_real_estate2.csv')"
   ]
  },
  {
   "cell_type": "code",
   "execution_count": 3,
   "id": "f47f2bfb-81cf-4f71-88a5-bce188828627",
   "metadata": {},
   "outputs": [
    {
     "data": {
      "text/plain": [
       "(414, 4)"
      ]
     },
     "execution_count": 3,
     "metadata": {},
     "output_type": "execute_result"
    }
   ],
   "source": [
    "taiwan_real_estate.shape"
   ]
  },
  {
   "cell_type": "code",
   "execution_count": 4,
   "id": "3c3136a5-cfab-4f29-b176-1c82d358c159",
   "metadata": {},
   "outputs": [
    {
     "data": {
      "text/html": [
       "<div>\n",
       "<style scoped>\n",
       "    .dataframe tbody tr th:only-of-type {\n",
       "        vertical-align: middle;\n",
       "    }\n",
       "\n",
       "    .dataframe tbody tr th {\n",
       "        vertical-align: top;\n",
       "    }\n",
       "\n",
       "    .dataframe thead th {\n",
       "        text-align: right;\n",
       "    }\n",
       "</style>\n",
       "<table border=\"1\" class=\"dataframe\">\n",
       "  <thead>\n",
       "    <tr style=\"text-align: right;\">\n",
       "      <th></th>\n",
       "      <th>dist_to_mrt_m</th>\n",
       "      <th>n_convenience</th>\n",
       "      <th>house_age_years</th>\n",
       "      <th>price_twd_msq</th>\n",
       "    </tr>\n",
       "  </thead>\n",
       "  <tbody>\n",
       "    <tr>\n",
       "      <th>0</th>\n",
       "      <td>84.87882</td>\n",
       "      <td>10</td>\n",
       "      <td>30 to 45</td>\n",
       "      <td>11.467474</td>\n",
       "    </tr>\n",
       "    <tr>\n",
       "      <th>1</th>\n",
       "      <td>306.59470</td>\n",
       "      <td>9</td>\n",
       "      <td>15 to 30</td>\n",
       "      <td>12.768533</td>\n",
       "    </tr>\n",
       "    <tr>\n",
       "      <th>2</th>\n",
       "      <td>561.98450</td>\n",
       "      <td>5</td>\n",
       "      <td>0 to 15</td>\n",
       "      <td>14.311649</td>\n",
       "    </tr>\n",
       "    <tr>\n",
       "      <th>3</th>\n",
       "      <td>561.98450</td>\n",
       "      <td>5</td>\n",
       "      <td>0 to 15</td>\n",
       "      <td>16.580938</td>\n",
       "    </tr>\n",
       "    <tr>\n",
       "      <th>4</th>\n",
       "      <td>390.56840</td>\n",
       "      <td>5</td>\n",
       "      <td>0 to 15</td>\n",
       "      <td>13.040847</td>\n",
       "    </tr>\n",
       "  </tbody>\n",
       "</table>\n",
       "</div>"
      ],
      "text/plain": [
       "   dist_to_mrt_m  n_convenience house_age_years  price_twd_msq\n",
       "0       84.87882             10        30 to 45      11.467474\n",
       "1      306.59470              9        15 to 30      12.768533\n",
       "2      561.98450              5         0 to 15      14.311649\n",
       "3      561.98450              5         0 to 15      16.580938\n",
       "4      390.56840              5         0 to 15      13.040847"
      ]
     },
     "execution_count": 4,
     "metadata": {},
     "output_type": "execute_result"
    }
   ],
   "source": [
    "taiwan_real_estate.head()"
   ]
  },
  {
   "cell_type": "code",
   "execution_count": 5,
   "id": "00b38fcb-d744-42c2-8801-f5b3c20133f8",
   "metadata": {},
   "outputs": [
    {
     "name": "stdout",
     "output_type": "stream",
     "text": [
      "<class 'pandas.core.frame.DataFrame'>\n",
      "RangeIndex: 414 entries, 0 to 413\n",
      "Data columns (total 4 columns):\n",
      " #   Column           Non-Null Count  Dtype  \n",
      "---  ------           --------------  -----  \n",
      " 0   dist_to_mrt_m    414 non-null    float64\n",
      " 1   n_convenience    414 non-null    int64  \n",
      " 2   house_age_years  414 non-null    object \n",
      " 3   price_twd_msq    414 non-null    float64\n",
      "dtypes: float64(2), int64(1), object(1)\n",
      "memory usage: 13.1+ KB\n"
     ]
    }
   ],
   "source": [
    "taiwan_real_estate.info()"
   ]
  },
  {
   "cell_type": "code",
   "execution_count": 6,
   "id": "3ef489ba-9b10-4824-9b6d-22bb0459bd25",
   "metadata": {},
   "outputs": [
    {
     "data": {
      "text/html": [
       "<div>\n",
       "<style scoped>\n",
       "    .dataframe tbody tr th:only-of-type {\n",
       "        vertical-align: middle;\n",
       "    }\n",
       "\n",
       "    .dataframe tbody tr th {\n",
       "        vertical-align: top;\n",
       "    }\n",
       "\n",
       "    .dataframe thead th {\n",
       "        text-align: right;\n",
       "    }\n",
       "</style>\n",
       "<table border=\"1\" class=\"dataframe\">\n",
       "  <thead>\n",
       "    <tr style=\"text-align: right;\">\n",
       "      <th></th>\n",
       "      <th>count</th>\n",
       "      <th>mean</th>\n",
       "      <th>std</th>\n",
       "      <th>min</th>\n",
       "      <th>25%</th>\n",
       "      <th>50%</th>\n",
       "      <th>75%</th>\n",
       "      <th>max</th>\n",
       "    </tr>\n",
       "  </thead>\n",
       "  <tbody>\n",
       "    <tr>\n",
       "      <th>dist_to_mrt_m</th>\n",
       "      <td>414.0</td>\n",
       "      <td>1083.885689</td>\n",
       "      <td>1262.109595</td>\n",
       "      <td>23.382840</td>\n",
       "      <td>289.324800</td>\n",
       "      <td>492.231300</td>\n",
       "      <td>1454.279000</td>\n",
       "      <td>6488.021000</td>\n",
       "    </tr>\n",
       "    <tr>\n",
       "      <th>n_convenience</th>\n",
       "      <td>414.0</td>\n",
       "      <td>4.094203</td>\n",
       "      <td>2.945562</td>\n",
       "      <td>0.000000</td>\n",
       "      <td>1.000000</td>\n",
       "      <td>4.000000</td>\n",
       "      <td>6.000000</td>\n",
       "      <td>10.000000</td>\n",
       "    </tr>\n",
       "    <tr>\n",
       "      <th>price_twd_msq</th>\n",
       "      <td>414.0</td>\n",
       "      <td>11.491738</td>\n",
       "      <td>4.116940</td>\n",
       "      <td>2.299546</td>\n",
       "      <td>8.381241</td>\n",
       "      <td>11.633888</td>\n",
       "      <td>14.099849</td>\n",
       "      <td>35.552194</td>\n",
       "    </tr>\n",
       "  </tbody>\n",
       "</table>\n",
       "</div>"
      ],
      "text/plain": [
       "               count         mean          std        min         25%  \\\n",
       "dist_to_mrt_m  414.0  1083.885689  1262.109595  23.382840  289.324800   \n",
       "n_convenience  414.0     4.094203     2.945562   0.000000    1.000000   \n",
       "price_twd_msq  414.0    11.491738     4.116940   2.299546    8.381241   \n",
       "\n",
       "                      50%          75%          max  \n",
       "dist_to_mrt_m  492.231300  1454.279000  6488.021000  \n",
       "n_convenience    4.000000     6.000000    10.000000  \n",
       "price_twd_msq   11.633888    14.099849    35.552194  "
      ]
     },
     "execution_count": 6,
     "metadata": {},
     "output_type": "execute_result"
    }
   ],
   "source": [
    "taiwan_real_estate.describe().T"
   ]
  },
  {
   "cell_type": "code",
   "execution_count": 7,
   "id": "63fdc8fc-3e6c-4350-9f76-a4f17ef2860e",
   "metadata": {},
   "outputs": [],
   "source": [
    "# Inintializing linear model:\n",
    "model = ols(formula='price_twd_msq ~ n_convenience', data=taiwan_real_estate)"
   ]
  },
  {
   "cell_type": "code",
   "execution_count": 8,
   "id": "ab5011f5-b24e-4a41-a8a1-26a9ca1e8960",
   "metadata": {},
   "outputs": [],
   "source": [
    "# Fitting the model:\n",
    "model = model.fit()"
   ]
  },
  {
   "cell_type": "code",
   "execution_count": 9,
   "id": "69191067-cb60-4219-83e6-4e4e264b446a",
   "metadata": {},
   "outputs": [
    {
     "data": {
      "text/plain": [
       "Intercept        8.224237\n",
       "n_convenience    0.798080\n",
       "dtype: float64"
      ]
     },
     "execution_count": 9,
     "metadata": {},
     "output_type": "execute_result"
    }
   ],
   "source": [
    "# Getting paramerters:\n",
    "model.params"
   ]
  },
  {
   "cell_type": "code",
   "execution_count": 10,
   "id": "6a935f0c-8644-4dab-9fad-32a610d485be",
   "metadata": {},
   "outputs": [
    {
     "data": {
      "text/html": [
       "<table class=\"simpletable\">\n",
       "<caption>OLS Regression Results</caption>\n",
       "<tr>\n",
       "  <th>Dep. Variable:</th>      <td>price_twd_msq</td>  <th>  R-squared:         </th> <td>   0.326</td>\n",
       "</tr>\n",
       "<tr>\n",
       "  <th>Model:</th>                   <td>OLS</td>       <th>  Adj. R-squared:    </th> <td>   0.324</td>\n",
       "</tr>\n",
       "<tr>\n",
       "  <th>Method:</th>             <td>Least Squares</td>  <th>  F-statistic:       </th> <td>   199.3</td>\n",
       "</tr>\n",
       "<tr>\n",
       "  <th>Date:</th>             <td>Thu, 14 Oct 2021</td> <th>  Prob (F-statistic):</th> <td>3.41e-37</td>\n",
       "</tr>\n",
       "<tr>\n",
       "  <th>Time:</th>                 <td>12:03:39</td>     <th>  Log-Likelihood:    </th> <td> -1091.1</td>\n",
       "</tr>\n",
       "<tr>\n",
       "  <th>No. Observations:</th>      <td>   414</td>      <th>  AIC:               </th> <td>   2186.</td>\n",
       "</tr>\n",
       "<tr>\n",
       "  <th>Df Residuals:</th>          <td>   412</td>      <th>  BIC:               </th> <td>   2194.</td>\n",
       "</tr>\n",
       "<tr>\n",
       "  <th>Df Model:</th>              <td>     1</td>      <th>                     </th>     <td> </td>   \n",
       "</tr>\n",
       "<tr>\n",
       "  <th>Covariance Type:</th>      <td>nonrobust</td>    <th>                     </th>     <td> </td>   \n",
       "</tr>\n",
       "</table>\n",
       "<table class=\"simpletable\">\n",
       "<tr>\n",
       "        <td></td>           <th>coef</th>     <th>std err</th>      <th>t</th>      <th>P>|t|</th>  <th>[0.025</th>    <th>0.975]</th>  \n",
       "</tr>\n",
       "<tr>\n",
       "  <th>Intercept</th>     <td>    8.2242</td> <td>    0.285</td> <td>   28.857</td> <td> 0.000</td> <td>    7.664</td> <td>    8.784</td>\n",
       "</tr>\n",
       "<tr>\n",
       "  <th>n_convenience</th> <td>    0.7981</td> <td>    0.057</td> <td>   14.118</td> <td> 0.000</td> <td>    0.687</td> <td>    0.909</td>\n",
       "</tr>\n",
       "</table>\n",
       "<table class=\"simpletable\">\n",
       "<tr>\n",
       "  <th>Omnibus:</th>       <td>171.927</td> <th>  Durbin-Watson:     </th> <td>   1.993</td> \n",
       "</tr>\n",
       "<tr>\n",
       "  <th>Prob(Omnibus):</th> <td> 0.000</td>  <th>  Jarque-Bera (JB):  </th> <td>1417.242</td> \n",
       "</tr>\n",
       "<tr>\n",
       "  <th>Skew:</th>          <td> 1.553</td>  <th>  Prob(JB):          </th> <td>1.78e-308</td>\n",
       "</tr>\n",
       "<tr>\n",
       "  <th>Kurtosis:</th>      <td>11.516</td>  <th>  Cond. No.          </th> <td>    8.87</td> \n",
       "</tr>\n",
       "</table><br/><br/>Notes:<br/>[1] Standard Errors assume that the covariance matrix of the errors is correctly specified."
      ],
      "text/plain": [
       "<class 'statsmodels.iolib.summary.Summary'>\n",
       "\"\"\"\n",
       "                            OLS Regression Results                            \n",
       "==============================================================================\n",
       "Dep. Variable:          price_twd_msq   R-squared:                       0.326\n",
       "Model:                            OLS   Adj. R-squared:                  0.324\n",
       "Method:                 Least Squares   F-statistic:                     199.3\n",
       "Date:                Thu, 14 Oct 2021   Prob (F-statistic):           3.41e-37\n",
       "Time:                        12:03:39   Log-Likelihood:                -1091.1\n",
       "No. Observations:                 414   AIC:                             2186.\n",
       "Df Residuals:                     412   BIC:                             2194.\n",
       "Df Model:                           1                                         \n",
       "Covariance Type:            nonrobust                                         \n",
       "=================================================================================\n",
       "                    coef    std err          t      P>|t|      [0.025      0.975]\n",
       "---------------------------------------------------------------------------------\n",
       "Intercept         8.2242      0.285     28.857      0.000       7.664       8.784\n",
       "n_convenience     0.7981      0.057     14.118      0.000       0.687       0.909\n",
       "==============================================================================\n",
       "Omnibus:                      171.927   Durbin-Watson:                   1.993\n",
       "Prob(Omnibus):                  0.000   Jarque-Bera (JB):             1417.242\n",
       "Skew:                           1.553   Prob(JB):                    1.78e-308\n",
       "Kurtosis:                      11.516   Cond. No.                         8.87\n",
       "==============================================================================\n",
       "\n",
       "Notes:\n",
       "[1] Standard Errors assume that the covariance matrix of the errors is correctly specified.\n",
       "\"\"\""
      ]
     },
     "execution_count": 10,
     "metadata": {},
     "output_type": "execute_result"
    }
   ],
   "source": [
    "# Getting summary:\n",
    "model.summary()"
   ]
  },
  {
   "cell_type": "code",
   "execution_count": 11,
   "id": "ca6b7f42-b021-40d4-baff-1437b600bbcb",
   "metadata": {},
   "outputs": [
    {
     "data": {
      "text/html": [
       "<div>\n",
       "<style scoped>\n",
       "    .dataframe tbody tr th:only-of-type {\n",
       "        vertical-align: middle;\n",
       "    }\n",
       "\n",
       "    .dataframe tbody tr th {\n",
       "        vertical-align: top;\n",
       "    }\n",
       "\n",
       "    .dataframe thead th {\n",
       "        text-align: right;\n",
       "    }\n",
       "</style>\n",
       "<table border=\"1\" class=\"dataframe\">\n",
       "  <thead>\n",
       "    <tr style=\"text-align: right;\">\n",
       "      <th></th>\n",
       "      <th>n_convenience</th>\n",
       "      <th>price_twd_msq</th>\n",
       "    </tr>\n",
       "  </thead>\n",
       "  <tbody>\n",
       "    <tr>\n",
       "      <th>0</th>\n",
       "      <td>0</td>\n",
       "      <td>8.224237</td>\n",
       "    </tr>\n",
       "    <tr>\n",
       "      <th>1</th>\n",
       "      <td>1</td>\n",
       "      <td>9.022317</td>\n",
       "    </tr>\n",
       "    <tr>\n",
       "      <th>2</th>\n",
       "      <td>2</td>\n",
       "      <td>9.820397</td>\n",
       "    </tr>\n",
       "    <tr>\n",
       "      <th>3</th>\n",
       "      <td>3</td>\n",
       "      <td>10.618477</td>\n",
       "    </tr>\n",
       "    <tr>\n",
       "      <th>4</th>\n",
       "      <td>4</td>\n",
       "      <td>11.416556</td>\n",
       "    </tr>\n",
       "  </tbody>\n",
       "</table>\n",
       "</div>"
      ],
      "text/plain": [
       "   n_convenience  price_twd_msq\n",
       "0              0       8.224237\n",
       "1              1       9.022317\n",
       "2              2       9.820397\n",
       "3              3      10.618477\n",
       "4              4      11.416556"
      ]
     },
     "execution_count": 11,
     "metadata": {},
     "output_type": "execute_result"
    }
   ],
   "source": [
    "# Making predictions:\n",
    "prediction_data = pd.DataFrame({'n_convenience': np.arange(11)})\n",
    "prediction_data['price_twd_msq'] = model.predict(prediction_data['n_convenience'])\n",
    "prediction_data.head()"
   ]
  },
  {
   "cell_type": "markdown",
   "id": "406a1715-5095-4f24-b855-26a86212084a",
   "metadata": {},
   "source": [
    "### 1.2. Visualizing predictions"
   ]
  },
  {
   "cell_type": "code",
   "execution_count": 12,
   "id": "612dd448-7daf-49d1-a73e-cc4ed7be1744",
   "metadata": {},
   "outputs": [
    {
     "data": {
      "image/png": "[encoded data removed]",
      "text/plain": [
       "<Figure size 576x288 with 1 Axes>"
      ]
     },
     "metadata": {},
     "output_type": "display_data"
    }
   ],
   "source": [
    "# Plotting predictions:\n",
    "fig, ax = plt.subplots(figsize=(8, 4))\n",
    "sns.regplot(data=taiwan_real_estate, x='n_convenience', y='price_twd_msq', ci=False, ax=ax)\n",
    "sns.scatterplot(data=prediction_data, x='n_convenience', y='price_twd_msq', color='red', ax=ax);"
   ]
  },
  {
   "cell_type": "code",
   "execution_count": 13,
   "id": "2d9e8122-5044-4b59-89c7-4b8825643331",
   "metadata": {},
   "outputs": [
    {
     "data": {
      "image/png": "[encoded data removed]",
      "text/plain": [
       "<Figure size 576x288 with 1 Axes>"
      ]
     },
     "metadata": {},
     "output_type": "display_data"
    }
   ],
   "source": [
    "# Plotting predictions (reducing clutter):\n",
    "fig, ax = plt.subplots(figsize=(8, 4))\n",
    "sns.regplot(data=taiwan_real_estate, x='n_convenience', y='price_twd_msq', x_estimator=np.mean, ci=False, ax=ax)\n",
    "sns.scatterplot(data=prediction_data, x='n_convenience', y='price_twd_msq', color='red', ax=ax);"
   ]
  },
  {
   "cell_type": "markdown",
   "id": "53b4e0f2-a286-497f-ad9b-65a210b07ce8",
   "metadata": {},
   "source": [
    "### 1.3. The limits of prediction"
   ]
  },
  {
   "cell_type": "code",
   "execution_count": 14,
   "id": "5103bb18-50c2-4e05-873d-d40683ddd8b6",
   "metadata": {},
   "outputs": [],
   "source": [
    "# Creating an array of some impossible values:\n",
    "impossible = pd.DataFrame({'n_convenience': [-1, 2.5]})"
   ]
  },
  {
   "cell_type": "code",
   "execution_count": 15,
   "id": "a4589828-fc53-473d-9691-0a59494991b1",
   "metadata": {},
   "outputs": [
    {
     "data": {
      "text/html": [
       "<div>\n",
       "<style scoped>\n",
       "    .dataframe tbody tr th:only-of-type {\n",
       "        vertical-align: middle;\n",
       "    }\n",
       "\n",
       "    .dataframe tbody tr th {\n",
       "        vertical-align: top;\n",
       "    }\n",
       "\n",
       "    .dataframe thead th {\n",
       "        text-align: right;\n",
       "    }\n",
       "</style>\n",
       "<table border=\"1\" class=\"dataframe\">\n",
       "  <thead>\n",
       "    <tr style=\"text-align: right;\">\n",
       "      <th></th>\n",
       "      <th>n_convenience</th>\n",
       "      <th>price_twd_msq</th>\n",
       "    </tr>\n",
       "  </thead>\n",
       "  <tbody>\n",
       "    <tr>\n",
       "      <th>0</th>\n",
       "      <td>-1.0</td>\n",
       "      <td>7.426158</td>\n",
       "    </tr>\n",
       "    <tr>\n",
       "      <th>1</th>\n",
       "      <td>2.5</td>\n",
       "      <td>10.219437</td>\n",
       "    </tr>\n",
       "  </tbody>\n",
       "</table>\n",
       "</div>"
      ],
      "text/plain": [
       "   n_convenience  price_twd_msq\n",
       "0           -1.0       7.426158\n",
       "1            2.5      10.219437"
      ]
     },
     "execution_count": 15,
     "metadata": {},
     "output_type": "execute_result"
    }
   ],
   "source": [
    "# Making preditions:\n",
    "impossible['price_twd_msq'] = model.predict(impossible['n_convenience'])\n",
    "impossible"
   ]
  },
  {
   "cell_type": "markdown",
   "id": "31b69b32-c0e9-4c3f-bab7-b3e3fc2ae55b",
   "metadata": {},
   "source": [
    "## 2. Working with model objects"
   ]
  },
  {
   "cell_type": "markdown",
   "id": "984f165b-a4be-4a48-858e-b81edac553bd",
   "metadata": {},
   "source": [
    "### 2.1. Extracting model elements"
   ]
  },
  {
   "cell_type": "code",
   "execution_count": 16,
   "id": "2976126e-f822-4c52-a5a7-ff130c8ee01f",
   "metadata": {},
   "outputs": [
    {
     "data": {
      "text/plain": [
       "Intercept        8.224237\n",
       "n_convenience    0.798080\n",
       "dtype: float64"
      ]
     },
     "execution_count": 16,
     "metadata": {},
     "output_type": "execute_result"
    }
   ],
   "source": [
    "model.params"
   ]
  },
  {
   "cell_type": "code",
   "execution_count": 17,
   "id": "f8b4f757-04e8-4c92-8da7-85b5d12b5d92",
   "metadata": {},
   "outputs": [
    {
     "data": {
      "text/plain": [
       "0    16.205035\n",
       "1    15.406955\n",
       "2    12.214636\n",
       "3    12.214636\n",
       "4    12.214636\n",
       "dtype: float64"
      ]
     },
     "execution_count": 17,
     "metadata": {},
     "output_type": "execute_result"
    }
   ],
   "source": [
    "model.fittedvalues.head()"
   ]
  },
  {
   "cell_type": "code",
   "execution_count": 18,
   "id": "72a784e4-c07a-4f53-a3ea-834454a15066",
   "metadata": {},
   "outputs": [
    {
     "data": {
      "text/plain": [
       "0   -4.737561\n",
       "1   -2.638422\n",
       "2    2.097013\n",
       "3    4.366302\n",
       "4    0.826211\n",
       "dtype: float64"
      ]
     },
     "execution_count": 18,
     "metadata": {},
     "output_type": "execute_result"
    }
   ],
   "source": [
    "model.resid.head()"
   ]
  },
  {
   "cell_type": "code",
   "execution_count": 19,
   "id": "41bbd975-c5e0-4eed-8f80-0631e61e645a",
   "metadata": {},
   "outputs": [
    {
     "data": {
      "text/html": [
       "<table class=\"simpletable\">\n",
       "<caption>OLS Regression Results</caption>\n",
       "<tr>\n",
       "  <th>Dep. Variable:</th>      <td>price_twd_msq</td>  <th>  R-squared:         </th> <td>   0.326</td>\n",
       "</tr>\n",
       "<tr>\n",
       "  <th>Model:</th>                   <td>OLS</td>       <th>  Adj. R-squared:    </th> <td>   0.324</td>\n",
       "</tr>\n",
       "<tr>\n",
       "  <th>Method:</th>             <td>Least Squares</td>  <th>  F-statistic:       </th> <td>   199.3</td>\n",
       "</tr>\n",
       "<tr>\n",
       "  <th>Date:</th>             <td>Thu, 14 Oct 2021</td> <th>  Prob (F-statistic):</th> <td>3.41e-37</td>\n",
       "</tr>\n",
       "<tr>\n",
       "  <th>Time:</th>                 <td>12:03:41</td>     <th>  Log-Likelihood:    </th> <td> -1091.1</td>\n",
       "</tr>\n",
       "<tr>\n",
       "  <th>No. Observations:</th>      <td>   414</td>      <th>  AIC:               </th> <td>   2186.</td>\n",
       "</tr>\n",
       "<tr>\n",
       "  <th>Df Residuals:</th>          <td>   412</td>      <th>  BIC:               </th> <td>   2194.</td>\n",
       "</tr>\n",
       "<tr>\n",
       "  <th>Df Model:</th>              <td>     1</td>      <th>                     </th>     <td> </td>   \n",
       "</tr>\n",
       "<tr>\n",
       "  <th>Covariance Type:</th>      <td>nonrobust</td>    <th>                     </th>     <td> </td>   \n",
       "</tr>\n",
       "</table>\n",
       "<table class=\"simpletable\">\n",
       "<tr>\n",
       "        <td></td>           <th>coef</th>     <th>std err</th>      <th>t</th>      <th>P>|t|</th>  <th>[0.025</th>    <th>0.975]</th>  \n",
       "</tr>\n",
       "<tr>\n",
       "  <th>Intercept</th>     <td>    8.2242</td> <td>    0.285</td> <td>   28.857</td> <td> 0.000</td> <td>    7.664</td> <td>    8.784</td>\n",
       "</tr>\n",
       "<tr>\n",
       "  <th>n_convenience</th> <td>    0.7981</td> <td>    0.057</td> <td>   14.118</td> <td> 0.000</td> <td>    0.687</td> <td>    0.909</td>\n",
       "</tr>\n",
       "</table>\n",
       "<table class=\"simpletable\">\n",
       "<tr>\n",
       "  <th>Omnibus:</th>       <td>171.927</td> <th>  Durbin-Watson:     </th> <td>   1.993</td> \n",
       "</tr>\n",
       "<tr>\n",
       "  <th>Prob(Omnibus):</th> <td> 0.000</td>  <th>  Jarque-Bera (JB):  </th> <td>1417.242</td> \n",
       "</tr>\n",
       "<tr>\n",
       "  <th>Skew:</th>          <td> 1.553</td>  <th>  Prob(JB):          </th> <td>1.78e-308</td>\n",
       "</tr>\n",
       "<tr>\n",
       "  <th>Kurtosis:</th>      <td>11.516</td>  <th>  Cond. No.          </th> <td>    8.87</td> \n",
       "</tr>\n",
       "</table><br/><br/>Notes:<br/>[1] Standard Errors assume that the covariance matrix of the errors is correctly specified."
      ],
      "text/plain": [
       "<class 'statsmodels.iolib.summary.Summary'>\n",
       "\"\"\"\n",
       "                            OLS Regression Results                            \n",
       "==============================================================================\n",
       "Dep. Variable:          price_twd_msq   R-squared:                       0.326\n",
       "Model:                            OLS   Adj. R-squared:                  0.324\n",
       "Method:                 Least Squares   F-statistic:                     199.3\n",
       "Date:                Thu, 14 Oct 2021   Prob (F-statistic):           3.41e-37\n",
       "Time:                        12:03:41   Log-Likelihood:                -1091.1\n",
       "No. Observations:                 414   AIC:                             2186.\n",
       "Df Residuals:                     412   BIC:                             2194.\n",
       "Df Model:                           1                                         \n",
       "Covariance Type:            nonrobust                                         \n",
       "=================================================================================\n",
       "                    coef    std err          t      P>|t|      [0.025      0.975]\n",
       "---------------------------------------------------------------------------------\n",
       "Intercept         8.2242      0.285     28.857      0.000       7.664       8.784\n",
       "n_convenience     0.7981      0.057     14.118      0.000       0.687       0.909\n",
       "==============================================================================\n",
       "Omnibus:                      171.927   Durbin-Watson:                   1.993\n",
       "Prob(Omnibus):                  0.000   Jarque-Bera (JB):             1417.242\n",
       "Skew:                           1.553   Prob(JB):                    1.78e-308\n",
       "Kurtosis:                      11.516   Cond. No.                         8.87\n",
       "==============================================================================\n",
       "\n",
       "Notes:\n",
       "[1] Standard Errors assume that the covariance matrix of the errors is correctly specified.\n",
       "\"\"\""
      ]
     },
     "execution_count": 19,
     "metadata": {},
     "output_type": "execute_result"
    }
   ],
   "source": [
    "model.summary()"
   ]
  },
  {
   "cell_type": "markdown",
   "id": "04fa35ae-5574-4ee9-bf73-2bf77d1a80c9",
   "metadata": {},
   "source": [
    "### 2.2. Manually predicting house prices"
   ]
  },
  {
   "cell_type": "code",
   "execution_count": 20,
   "id": "9453c13b-1cee-473c-945d-7eeb4d774bc3",
   "metadata": {},
   "outputs": [],
   "source": [
    "# Getting the slope and intercept:\n",
    "intercept, slope = model.params"
   ]
  },
  {
   "cell_type": "code",
   "execution_count": 21,
   "id": "f14e1135-249c-4c6e-b0e2-3347cb5cfc7e",
   "metadata": {},
   "outputs": [
    {
     "data": {
      "text/plain": [
       "0    16.205035\n",
       "1    15.406955\n",
       "2    12.214636\n",
       "3    12.214636\n",
       "4    12.214636\n",
       "Name: n_convenience, dtype: float64"
      ]
     },
     "execution_count": 21,
     "metadata": {},
     "output_type": "execute_result"
    }
   ],
   "source": [
    "# Making predictions manually:\n",
    "manual_prediction = intercept + taiwan_real_estate['n_convenience'] * slope\n",
    "manual_prediction.head()"
   ]
  },
  {
   "cell_type": "code",
   "execution_count": 22,
   "id": "4513d703-07b7-43ea-9fcf-3fc13574d3d8",
   "metadata": {},
   "outputs": [
    {
     "data": {
      "text/plain": [
       "0    16.205035\n",
       "1    15.406955\n",
       "2    12.214636\n",
       "3    12.214636\n",
       "4    12.214636\n",
       "dtype: float64"
      ]
     },
     "execution_count": 22,
     "metadata": {},
     "output_type": "execute_result"
    }
   ],
   "source": [
    "# Comparing the results:\n",
    "model.predict(taiwan_real_estate['n_convenience']).head()"
   ]
  },
  {
   "cell_type": "markdown",
   "id": "120b1d37-c7c7-4e7d-bc3e-c8ecff4fe78a",
   "metadata": {},
   "source": [
    "## 3. Regression to the mean"
   ]
  },
  {
   "cell_type": "markdown",
   "id": "f4fc087a-5ab1-4438-85c1-d1aa34e83f9b",
   "metadata": {},
   "source": [
    "### 3.1. Home run!"
   ]
  },
  {
   "cell_type": "markdown",
   "id": "1c057eec-89d2-4f46-9e3c-8f9193066da9",
   "metadata": {},
   "source": [
    "Regression to the mean is an important concept in many areas, including sports.\n",
    "\n",
    "Here you can see a dataset of baseball batting data in 2017 and 2018. Each point represents a player, and more home runs are better. A naive prediction might be that the performance in 2018 is the same as the performance in 2017. That is, a linear regression would lie on the \"y equals x\" line."
   ]
  },
  {
   "attachments": {
    "ef024adf-050c-4f05-bf37-0c1b7b644001.png": {
     "image/png": "[encoded data removed]"
    }
   },
   "cell_type": "markdown",
   "id": "f953ebe7-af63-45c7-93ab-8fce47833a3d",
   "metadata": {},
   "source": [
    "![image.png](attachment:ef024adf-050c-4f05-bf37-0c1b7b644001.png)"
   ]
  },
  {
   "cell_type": "markdown",
   "id": "6cfe424f-4145-4eef-9e70-433a712f6e18",
   "metadata": {},
   "source": [
    "> - \n",
    "Someone who hit 40 home runs in 2017 is predicted to hit 10 fewer home runs the next year because regression to the mean states that, on average, extremely high values are not sustained."
   ]
  },
  {
   "cell_type": "markdown",
   "id": "b472982a-153a-4a2a-8c08-625f67c26959",
   "metadata": {},
   "source": [
    "### 3.2. Plotting consecutive portfolio returns"
   ]
  },
  {
   "cell_type": "code",
   "execution_count": 23,
   "id": "e8e5575c-2bea-45e6-9f83-e44648390440",
   "metadata": {},
   "outputs": [],
   "source": [
    "sp500_yearly_returns = pd.read_csv('../data/sp500_yearly_returns.csv')"
   ]
  },
  {
   "cell_type": "code",
   "execution_count": 24,
   "id": "76f7005e-16c6-4652-a2a2-d92f427ef6ae",
   "metadata": {},
   "outputs": [
    {
     "data": {
      "text/plain": [
       "(493, 3)"
      ]
     },
     "execution_count": 24,
     "metadata": {},
     "output_type": "execute_result"
    }
   ],
   "source": [
    "sp500_yearly_returns.shape"
   ]
  },
  {
   "cell_type": "code",
   "execution_count": 25,
   "id": "64b572a7-03bb-4072-b238-e3091e074fd4",
   "metadata": {},
   "outputs": [
    {
     "data": {
      "text/html": [
       "<div>\n",
       "<style scoped>\n",
       "    .dataframe tbody tr th:only-of-type {\n",
       "        vertical-align: middle;\n",
       "    }\n",
       "\n",
       "    .dataframe tbody tr th {\n",
       "        vertical-align: top;\n",
       "    }\n",
       "\n",
       "    .dataframe thead th {\n",
       "        text-align: right;\n",
       "    }\n",
       "</style>\n",
       "<table border=\"1\" class=\"dataframe\">\n",
       "  <thead>\n",
       "    <tr style=\"text-align: right;\">\n",
       "      <th></th>\n",
       "      <th>symbol</th>\n",
       "      <th>return_2018</th>\n",
       "      <th>return_2019</th>\n",
       "    </tr>\n",
       "  </thead>\n",
       "  <tbody>\n",
       "    <tr>\n",
       "      <th>0</th>\n",
       "      <td>AAPL</td>\n",
       "      <td>-0.053902</td>\n",
       "      <td>0.889578</td>\n",
       "    </tr>\n",
       "    <tr>\n",
       "      <th>1</th>\n",
       "      <td>MSFT</td>\n",
       "      <td>0.207953</td>\n",
       "      <td>0.575581</td>\n",
       "    </tr>\n",
       "    <tr>\n",
       "      <th>2</th>\n",
       "      <td>AMZN</td>\n",
       "      <td>0.284317</td>\n",
       "      <td>0.230278</td>\n",
       "    </tr>\n",
       "    <tr>\n",
       "      <th>3</th>\n",
       "      <td>FB</td>\n",
       "      <td>-0.257112</td>\n",
       "      <td>0.565718</td>\n",
       "    </tr>\n",
       "    <tr>\n",
       "      <th>4</th>\n",
       "      <td>GOOGL</td>\n",
       "      <td>-0.008012</td>\n",
       "      <td>0.281762</td>\n",
       "    </tr>\n",
       "  </tbody>\n",
       "</table>\n",
       "</div>"
      ],
      "text/plain": [
       "  symbol  return_2018  return_2019\n",
       "0   AAPL    -0.053902     0.889578\n",
       "1   MSFT     0.207953     0.575581\n",
       "2   AMZN     0.284317     0.230278\n",
       "3     FB    -0.257112     0.565718\n",
       "4  GOOGL    -0.008012     0.281762"
      ]
     },
     "execution_count": 25,
     "metadata": {},
     "output_type": "execute_result"
    }
   ],
   "source": [
    "sp500_yearly_returns.head()"
   ]
  },
  {
   "cell_type": "code",
   "execution_count": 26,
   "id": "d06c5cf9-b8d4-4470-9032-b1d5c281fad1",
   "metadata": {},
   "outputs": [
    {
     "name": "stdout",
     "output_type": "stream",
     "text": [
      "<class 'pandas.core.frame.DataFrame'>\n",
      "RangeIndex: 493 entries, 0 to 492\n",
      "Data columns (total 3 columns):\n",
      " #   Column       Non-Null Count  Dtype  \n",
      "---  ------       --------------  -----  \n",
      " 0   symbol       493 non-null    object \n",
      " 1   return_2018  493 non-null    float64\n",
      " 2   return_2019  493 non-null    float64\n",
      "dtypes: float64(2), object(1)\n",
      "memory usage: 11.7+ KB\n"
     ]
    }
   ],
   "source": [
    "sp500_yearly_returns.info()"
   ]
  },
  {
   "cell_type": "code",
   "execution_count": 27,
   "id": "0276c2f2-7edc-433b-9631-4d73c1dfdc17",
   "metadata": {},
   "outputs": [
    {
     "data": {
      "text/html": [
       "<div>\n",
       "<style scoped>\n",
       "    .dataframe tbody tr th:only-of-type {\n",
       "        vertical-align: middle;\n",
       "    }\n",
       "\n",
       "    .dataframe tbody tr th {\n",
       "        vertical-align: top;\n",
       "    }\n",
       "\n",
       "    .dataframe thead th {\n",
       "        text-align: right;\n",
       "    }\n",
       "</style>\n",
       "<table border=\"1\" class=\"dataframe\">\n",
       "  <thead>\n",
       "    <tr style=\"text-align: right;\">\n",
       "      <th></th>\n",
       "      <th>count</th>\n",
       "      <th>mean</th>\n",
       "      <th>std</th>\n",
       "      <th>min</th>\n",
       "      <th>25%</th>\n",
       "      <th>50%</th>\n",
       "      <th>75%</th>\n",
       "      <th>max</th>\n",
       "    </tr>\n",
       "  </thead>\n",
       "  <tbody>\n",
       "    <tr>\n",
       "      <th>return_2018</th>\n",
       "      <td>493.0</td>\n",
       "      <td>-0.048695</td>\n",
       "      <td>0.228155</td>\n",
       "      <td>-0.576078</td>\n",
       "      <td>-0.206344</td>\n",
       "      <td>-0.057428</td>\n",
       "      <td>0.068880</td>\n",
       "      <td>1.326161</td>\n",
       "    </tr>\n",
       "    <tr>\n",
       "      <th>return_2019</th>\n",
       "      <td>493.0</td>\n",
       "      <td>0.320343</td>\n",
       "      <td>0.248041</td>\n",
       "      <td>-0.475172</td>\n",
       "      <td>0.166464</td>\n",
       "      <td>0.305857</td>\n",
       "      <td>0.444273</td>\n",
       "      <td>1.484291</td>\n",
       "    </tr>\n",
       "  </tbody>\n",
       "</table>\n",
       "</div>"
      ],
      "text/plain": [
       "             count      mean       std       min       25%       50%  \\\n",
       "return_2018  493.0 -0.048695  0.228155 -0.576078 -0.206344 -0.057428   \n",
       "return_2019  493.0  0.320343  0.248041 -0.475172  0.166464  0.305857   \n",
       "\n",
       "                  75%       max  \n",
       "return_2018  0.068880  1.326161  \n",
       "return_2019  0.444273  1.484291  "
      ]
     },
     "execution_count": 27,
     "metadata": {},
     "output_type": "execute_result"
    }
   ],
   "source": [
    "sp500_yearly_returns.describe().T"
   ]
  },
  {
   "cell_type": "markdown",
   "id": "41c19975-9bb8-4193-a926-69a8cc8cc248",
   "metadata": {},
   "source": [
    "The sp500_yearly_returns dataset contains three columns:"
   ]
  },
  {
   "attachments": {
    "baf0f593-a05d-4c6e-83d7-3bba65c569a3.png": {
     "image/png": "[encoded data removed]"
    }
   },
   "cell_type": "markdown",
   "id": "e1633568-0839-4711-afbf-99c53c108177",
   "metadata": {},
   "source": [
    "![image.png](attachment:baf0f593-a05d-4c6e-83d7-3bba65c569a3.png)"
   ]
  },
  {
   "cell_type": "markdown",
   "id": "b50be7ad-4125-4953-b39d-6637152bf7a3",
   "metadata": {},
   "source": [
    "> - A positive number for the return means the investment increased in value; negative means it lost value.\n",
    "> - Just as with baseball home runs, a naive prediction might be that the investment performance stays the same from year to year, lying on the y equals x line."
   ]
  },
  {
   "cell_type": "code",
   "execution_count": 28,
   "id": "f009213d-5f8c-4daa-9079-1f254788ea7b",
   "metadata": {
    "tags": []
   },
   "outputs": [
    {
     "data": {
      "image/png": "[encoded data removed]",
      "text/plain": [
       "<Figure size 432x432 with 1 Axes>"
      ]
     },
     "metadata": {},
     "output_type": "display_data"
    }
   ],
   "source": [
    "# Plotting 2018 Vs. 2019 return:\n",
    "fig, ax = plt.subplots(figsize=(6, 6))\n",
    "sns.regplot(data=sp500_yearly_returns, x='return_2018', y='return_2019', ci=False, ax=ax)\n",
    "ax.axline(xy1=(0, 0), slope=1, linewidth=2, color='green')\n",
    "ax.axis('equal');"
   ]
  },
  {
   "cell_type": "markdown",
   "id": "9c482688-1806-4867-83de-c6a1859c0a4e",
   "metadata": {},
   "source": [
    "### 3.3. Modeling consecutive returns"
   ]
  },
  {
   "cell_type": "code",
   "execution_count": 29,
   "id": "07890f3b-e1be-449d-835b-957c94c44afc",
   "metadata": {},
   "outputs": [],
   "source": [
    "# Initializing and fitting the model:\n",
    "model = ols(formula='return_2019 ~ return_2018', data=sp500_yearly_returns).fit()"
   ]
  },
  {
   "cell_type": "code",
   "execution_count": 30,
   "id": "8b0cd88a-fa62-4ecf-a25f-dee41351497c",
   "metadata": {},
   "outputs": [
    {
     "data": {
      "text/plain": [
       "Intercept      0.321321\n",
       "return_2018    0.020069\n",
       "dtype: float64"
      ]
     },
     "execution_count": 30,
     "metadata": {},
     "output_type": "execute_result"
    }
   ],
   "source": [
    "# Getting paramerters:\n",
    "model.params"
   ]
  },
  {
   "cell_type": "code",
   "execution_count": 31,
   "id": "6828e53a-498f-4ebf-ac60-b8961b513037",
   "metadata": {},
   "outputs": [
    {
     "data": {
      "text/plain": [
       "0    0.301251\n",
       "1    0.321321\n",
       "2    0.341390\n",
       "dtype: float64"
      ]
     },
     "execution_count": 31,
     "metadata": {},
     "output_type": "execute_result"
    }
   ],
   "source": [
    "# Making predictions:\n",
    "explanatory_data = pd.DataFrame({'return_2018': [-1, 0, 1]})\n",
    "model.predict(explanatory_data)"
   ]
  },
  {
   "cell_type": "markdown",
   "id": "8562cb9f-fb6a-43c1-ad40-b18a882e9ec5",
   "metadata": {},
   "source": [
    "## 4. Transforming variables"
   ]
  },
  {
   "cell_type": "markdown",
   "id": "c3a357ee-8e6a-48bb-abc8-f2edb10dea7c",
   "metadata": {},
   "source": [
    "### 4.1. Transforming the explanatory variable"
   ]
  },
  {
   "cell_type": "code",
   "execution_count": 36,
   "id": "eb66f28b-b2d1-48b4-bc73-4ab5d9a64182",
   "metadata": {},
   "outputs": [
    {
     "data": {
      "text/html": [
       "<div>\n",
       "<style scoped>\n",
       "    .dataframe tbody tr th:only-of-type {\n",
       "        vertical-align: middle;\n",
       "    }\n",
       "\n",
       "    .dataframe tbody tr th {\n",
       "        vertical-align: top;\n",
       "    }\n",
       "\n",
       "    .dataframe thead th {\n",
       "        text-align: right;\n",
       "    }\n",
       "</style>\n",
       "<table border=\"1\" class=\"dataframe\">\n",
       "  <thead>\n",
       "    <tr style=\"text-align: right;\">\n",
       "      <th></th>\n",
       "      <th>dist_to_mrt_m</th>\n",
       "      <th>n_convenience</th>\n",
       "      <th>house_age_years</th>\n",
       "      <th>price_twd_msq</th>\n",
       "    </tr>\n",
       "  </thead>\n",
       "  <tbody>\n",
       "    <tr>\n",
       "      <th>0</th>\n",
       "      <td>84.87882</td>\n",
       "      <td>10</td>\n",
       "      <td>30 to 45</td>\n",
       "      <td>11.467474</td>\n",
       "    </tr>\n",
       "    <tr>\n",
       "      <th>1</th>\n",
       "      <td>306.59470</td>\n",
       "      <td>9</td>\n",
       "      <td>15 to 30</td>\n",
       "      <td>12.768533</td>\n",
       "    </tr>\n",
       "    <tr>\n",
       "      <th>2</th>\n",
       "      <td>561.98450</td>\n",
       "      <td>5</td>\n",
       "      <td>0 to 15</td>\n",
       "      <td>14.311649</td>\n",
       "    </tr>\n",
       "    <tr>\n",
       "      <th>3</th>\n",
       "      <td>561.98450</td>\n",
       "      <td>5</td>\n",
       "      <td>0 to 15</td>\n",
       "      <td>16.580938</td>\n",
       "    </tr>\n",
       "    <tr>\n",
       "      <th>4</th>\n",
       "      <td>390.56840</td>\n",
       "      <td>5</td>\n",
       "      <td>0 to 15</td>\n",
       "      <td>13.040847</td>\n",
       "    </tr>\n",
       "  </tbody>\n",
       "</table>\n",
       "</div>"
      ],
      "text/plain": [
       "   dist_to_mrt_m  n_convenience house_age_years  price_twd_msq\n",
       "0       84.87882             10        30 to 45      11.467474\n",
       "1      306.59470              9        15 to 30      12.768533\n",
       "2      561.98450              5         0 to 15      14.311649\n",
       "3      561.98450              5         0 to 15      16.580938\n",
       "4      390.56840              5         0 to 15      13.040847"
      ]
     },
     "execution_count": 36,
     "metadata": {},
     "output_type": "execute_result"
    }
   ],
   "source": [
    "taiwan_real_estate.head()"
   ]
  },
  {
   "cell_type": "code",
   "execution_count": 37,
   "id": "7cba03cf-54dc-471d-b448-7897cd4e8930",
   "metadata": {},
   "outputs": [],
   "source": [
    "taiwan_real_estate['sqrt_dist_to_mrt_m'] = np.sqrt(taiwan_real_estate['dist_to_mrt_m'])"
   ]
  },
  {
   "cell_type": "code",
   "execution_count": 44,
   "id": "56bb8c18-dd27-4733-8732-4b2f79847a60",
   "metadata": {},
   "outputs": [
    {
     "data": {
      "image/png": "[encoded data removed]",
      "text/plain": [
       "<Figure size 576x288 with 1 Axes>"
      ]
     },
     "metadata": {},
     "output_type": "display_data"
    }
   ],
   "source": [
    "fig = plt.figure(figsize=(8, 4))\n",
    "ax = sns.regplot(data=taiwan_real_estate, x='dist_to_mrt_m', y='price_twd_msq', ci=False);"
   ]
  },
  {
   "cell_type": "code",
   "execution_count": 39,
   "id": "470e9e76-af3c-4cfc-93a6-7ea7420036a7",
   "metadata": {},
   "outputs": [
    {
     "data": {
      "text/html": [
       "<div>\n",
       "<style scoped>\n",
       "    .dataframe tbody tr th:only-of-type {\n",
       "        vertical-align: middle;\n",
       "    }\n",
       "\n",
       "    .dataframe tbody tr th {\n",
       "        vertical-align: top;\n",
       "    }\n",
       "\n",
       "    .dataframe thead th {\n",
       "        text-align: right;\n",
       "    }\n",
       "</style>\n",
       "<table border=\"1\" class=\"dataframe\">\n",
       "  <thead>\n",
       "    <tr style=\"text-align: right;\">\n",
       "      <th></th>\n",
       "      <th>dist_to_mrt_m</th>\n",
       "      <th>n_convenience</th>\n",
       "      <th>house_age_years</th>\n",
       "      <th>price_twd_msq</th>\n",
       "      <th>sqrt_dist_to_mrt_m</th>\n",
       "    </tr>\n",
       "  </thead>\n",
       "  <tbody>\n",
       "    <tr>\n",
       "      <th>0</th>\n",
       "      <td>84.87882</td>\n",
       "      <td>10</td>\n",
       "      <td>30 to 45</td>\n",
       "      <td>11.467474</td>\n",
       "      <td>9.212970</td>\n",
       "    </tr>\n",
       "    <tr>\n",
       "      <th>1</th>\n",
       "      <td>306.59470</td>\n",
       "      <td>9</td>\n",
       "      <td>15 to 30</td>\n",
       "      <td>12.768533</td>\n",
       "      <td>17.509846</td>\n",
       "    </tr>\n",
       "    <tr>\n",
       "      <th>2</th>\n",
       "      <td>561.98450</td>\n",
       "      <td>5</td>\n",
       "      <td>0 to 15</td>\n",
       "      <td>14.311649</td>\n",
       "      <td>23.706212</td>\n",
       "    </tr>\n",
       "    <tr>\n",
       "      <th>3</th>\n",
       "      <td>561.98450</td>\n",
       "      <td>5</td>\n",
       "      <td>0 to 15</td>\n",
       "      <td>16.580938</td>\n",
       "      <td>23.706212</td>\n",
       "    </tr>\n",
       "    <tr>\n",
       "      <th>4</th>\n",
       "      <td>390.56840</td>\n",
       "      <td>5</td>\n",
       "      <td>0 to 15</td>\n",
       "      <td>13.040847</td>\n",
       "      <td>19.762803</td>\n",
       "    </tr>\n",
       "  </tbody>\n",
       "</table>\n",
       "</div>"
      ],
      "text/plain": [
       "   dist_to_mrt_m  n_convenience house_age_years  price_twd_msq  \\\n",
       "0       84.87882             10        30 to 45      11.467474   \n",
       "1      306.59470              9        15 to 30      12.768533   \n",
       "2      561.98450              5         0 to 15      14.311649   \n",
       "3      561.98450              5         0 to 15      16.580938   \n",
       "4      390.56840              5         0 to 15      13.040847   \n",
       "\n",
       "   sqrt_dist_to_mrt_m  \n",
       "0            9.212970  \n",
       "1           17.509846  \n",
       "2           23.706212  \n",
       "3           23.706212  \n",
       "4           19.762803  "
      ]
     },
     "execution_count": 39,
     "metadata": {},
     "output_type": "execute_result"
    }
   ],
   "source": [
    "taiwan_real_estate.head()"
   ]
  },
  {
   "cell_type": "code",
   "execution_count": 45,
   "id": "4f3178e5-bc2f-4352-a0a3-ecbd84ca06b5",
   "metadata": {},
   "outputs": [
    {
     "data": {
      "image/png": "[encoded data removed]",
      "text/plain": [
       "<Figure size 576x288 with 1 Axes>"
      ]
     },
     "metadata": {},
     "output_type": "display_data"
    }
   ],
   "source": [
    "fig = plt.figure(figsize=(8, 4))\n",
    "ax = sns.regplot(data=taiwan_real_estate, x='sqrt_dist_to_mrt_m', y='price_twd_msq', ci=False);"
   ]
  },
  {
   "cell_type": "code",
   "execution_count": 46,
   "id": "7bcc1d01-bc88-4f08-9298-322f45dfb985",
   "metadata": {},
   "outputs": [],
   "source": [
    "model = ols(formula='price_twd_msq ~ sqrt_dist_to_mrt_m', data=taiwan_real_estate).fit()"
   ]
  },
  {
   "cell_type": "code",
   "execution_count": 48,
   "id": "2ecb38ce-4ddb-4ecd-bba5-c7605f9de4c2",
   "metadata": {},
   "outputs": [
    {
     "data": {
      "text/plain": [
       "Intercept             16.709799\n",
       "sqrt_dist_to_mrt_m    -0.182843\n",
       "dtype: float64"
      ]
     },
     "execution_count": 48,
     "metadata": {},
     "output_type": "execute_result"
    }
   ],
   "source": [
    "model.params"
   ]
  },
  {
   "cell_type": "code",
   "execution_count": 51,
   "id": "bd319a05-aa84-43b3-9568-6c74e578c7ef",
   "metadata": {},
   "outputs": [
    {
     "data": {
      "text/html": [
       "<div>\n",
       "<style scoped>\n",
       "    .dataframe tbody tr th:only-of-type {\n",
       "        vertical-align: middle;\n",
       "    }\n",
       "\n",
       "    .dataframe tbody tr th {\n",
       "        vertical-align: top;\n",
       "    }\n",
       "\n",
       "    .dataframe thead th {\n",
       "        text-align: right;\n",
       "    }\n",
       "</style>\n",
       "<table border=\"1\" class=\"dataframe\">\n",
       "  <thead>\n",
       "    <tr style=\"text-align: right;\">\n",
       "      <th></th>\n",
       "      <th>sqrt_dist_to_mrt_m</th>\n",
       "      <th>dist_to_mrt_m</th>\n",
       "    </tr>\n",
       "  </thead>\n",
       "  <tbody>\n",
       "    <tr>\n",
       "      <th>0</th>\n",
       "      <td>0.0</td>\n",
       "      <td>0</td>\n",
       "    </tr>\n",
       "    <tr>\n",
       "      <th>1</th>\n",
       "      <td>10.0</td>\n",
       "      <td>100</td>\n",
       "    </tr>\n",
       "    <tr>\n",
       "      <th>2</th>\n",
       "      <td>20.0</td>\n",
       "      <td>400</td>\n",
       "    </tr>\n",
       "    <tr>\n",
       "      <th>3</th>\n",
       "      <td>30.0</td>\n",
       "      <td>900</td>\n",
       "    </tr>\n",
       "    <tr>\n",
       "      <th>4</th>\n",
       "      <td>40.0</td>\n",
       "      <td>1600</td>\n",
       "    </tr>\n",
       "  </tbody>\n",
       "</table>\n",
       "</div>"
      ],
      "text/plain": [
       "   sqrt_dist_to_mrt_m  dist_to_mrt_m\n",
       "0                 0.0              0\n",
       "1                10.0            100\n",
       "2                20.0            400\n",
       "3                30.0            900\n",
       "4                40.0           1600"
      ]
     },
     "execution_count": 51,
     "metadata": {},
     "output_type": "execute_result"
    }
   ],
   "source": [
    "prediction_data = pd.DataFrame({\"sqrt_dist_to_mrt_m\": np.sqrt(np.arange(0, 81, 10) ** 2),\n",
    "                                \"dist_to_mrt_m\": np.arange(0, 81, 10) ** 2})\n",
    "prediction_data.head()"
   ]
  },
  {
   "cell_type": "code",
   "execution_count": 52,
   "id": "75faa1da-e689-4a8a-aac0-b7be7be52d35",
   "metadata": {},
   "outputs": [
    {
     "data": {
      "text/html": [
       "<div>\n",
       "<style scoped>\n",
       "    .dataframe tbody tr th:only-of-type {\n",
       "        vertical-align: middle;\n",
       "    }\n",
       "\n",
       "    .dataframe tbody tr th {\n",
       "        vertical-align: top;\n",
       "    }\n",
       "\n",
       "    .dataframe thead th {\n",
       "        text-align: right;\n",
       "    }\n",
       "</style>\n",
       "<table border=\"1\" class=\"dataframe\">\n",
       "  <thead>\n",
       "    <tr style=\"text-align: right;\">\n",
       "      <th></th>\n",
       "      <th>sqrt_dist_to_mrt_m</th>\n",
       "      <th>dist_to_mrt_m</th>\n",
       "      <th>price_twd_msq</th>\n",
       "    </tr>\n",
       "  </thead>\n",
       "  <tbody>\n",
       "    <tr>\n",
       "      <th>0</th>\n",
       "      <td>0.0</td>\n",
       "      <td>0</td>\n",
       "      <td>16.709799</td>\n",
       "    </tr>\n",
       "    <tr>\n",
       "      <th>1</th>\n",
       "      <td>10.0</td>\n",
       "      <td>100</td>\n",
       "      <td>14.881370</td>\n",
       "    </tr>\n",
       "    <tr>\n",
       "      <th>2</th>\n",
       "      <td>20.0</td>\n",
       "      <td>400</td>\n",
       "      <td>13.052942</td>\n",
       "    </tr>\n",
       "    <tr>\n",
       "      <th>3</th>\n",
       "      <td>30.0</td>\n",
       "      <td>900</td>\n",
       "      <td>11.224513</td>\n",
       "    </tr>\n",
       "    <tr>\n",
       "      <th>4</th>\n",
       "      <td>40.0</td>\n",
       "      <td>1600</td>\n",
       "      <td>9.396085</td>\n",
       "    </tr>\n",
       "    <tr>\n",
       "      <th>5</th>\n",
       "      <td>50.0</td>\n",
       "      <td>2500</td>\n",
       "      <td>7.567656</td>\n",
       "    </tr>\n",
       "    <tr>\n",
       "      <th>6</th>\n",
       "      <td>60.0</td>\n",
       "      <td>3600</td>\n",
       "      <td>5.739227</td>\n",
       "    </tr>\n",
       "    <tr>\n",
       "      <th>7</th>\n",
       "      <td>70.0</td>\n",
       "      <td>4900</td>\n",
       "      <td>3.910799</td>\n",
       "    </tr>\n",
       "    <tr>\n",
       "      <th>8</th>\n",
       "      <td>80.0</td>\n",
       "      <td>6400</td>\n",
       "      <td>2.082370</td>\n",
       "    </tr>\n",
       "  </tbody>\n",
       "</table>\n",
       "</div>"
      ],
      "text/plain": [
       "   sqrt_dist_to_mrt_m  dist_to_mrt_m  price_twd_msq\n",
       "0                 0.0              0      16.709799\n",
       "1                10.0            100      14.881370\n",
       "2                20.0            400      13.052942\n",
       "3                30.0            900      11.224513\n",
       "4                40.0           1600       9.396085\n",
       "5                50.0           2500       7.567656\n",
       "6                60.0           3600       5.739227\n",
       "7                70.0           4900       3.910799\n",
       "8                80.0           6400       2.082370"
      ]
     },
     "execution_count": 52,
     "metadata": {},
     "output_type": "execute_result"
    }
   ],
   "source": [
    "prediction_data['price_twd_msq'] = model.predict(prediction_data['sqrt_dist_to_mrt_m'])\n",
    "prediction_data"
   ]
  },
  {
   "cell_type": "code",
   "execution_count": 54,
   "id": "4e67a47a-7cbd-4e46-b33a-ff652273a0e6",
   "metadata": {},
   "outputs": [
    {
     "data": {
      "image/png": "[encoded data removed]",
      "text/plain": [
       "<Figure size 576x288 with 1 Axes>"
      ]
     },
     "metadata": {},
     "output_type": "display_data"
    }
   ],
   "source": [
    "fig = plt.figure(figsize=(8, 4))\n",
    "ax = sns.regplot(data=taiwan_real_estate, x='sqrt_dist_to_mrt_m', y='price_twd_msq', ci=False)\n",
    "ax = sns.scatterplot(data=prediction_data, x='sqrt_dist_to_mrt_m', y='price_twd_msq', ci=False, color='red');"
   ]
  },
  {
   "cell_type": "markdown",
   "id": "a7a351a3-dce5-4831-9d03-448136e90845",
   "metadata": {},
   "source": [
    "### 4.2. Transforming the response variable too"
   ]
  },
  {
   "cell_type": "code",
   "execution_count": null,
   "id": "ce39245d-1fac-4daa-be65-66bafaa36c07",
   "metadata": {},
   "outputs": [],
   "source": []
  }
 ],
 "metadata": {
  "kernelspec": {
   "display_name": "Python 3 (ipykernel)",
   "language": "python",
   "name": "python3"
  },
  "language_info": {
   "codemirror_mode": {
    "name": "ipython",
    "version": 3
   },
   "file_extension": ".py",
   "mimetype": "text/x-python",
   "name": "python",
   "nbconvert_exporter": "python",
   "pygments_lexer": "ipython3",
   "version": "3.9.6"
  }
 },
 "nbformat": 4,
 "nbformat_minor": 5
}
