{
 "cells": [
  {
   "cell_type": "code",
   "execution_count": 1,
   "id": "eed07a38-8445-4102-ac56-558f4376848f",
   "metadata": {},
   "outputs": [],
   "source": [
    "import numpy as np\n",
    "np.random.seed(42)\n",
    "import matplotlib.pyplot as plt\n",
    "%matplotlib inline\n",
    "import pandas as pd\n",
    "import seaborn as sns\n",
    "sns.set()\n",
    "from statsmodels.graphics.mosaicplot import mosaic\n",
    "from statsmodels.formula.api import logit"
   ]
  },
  {
   "cell_type": "markdown",
   "id": "3a445968-3cba-44e3-b7d3-d456a48f2f1b",
   "metadata": {},
   "source": [
    "## 1. Why you need logistic regression"
   ]
  },
  {
   "cell_type": "markdown",
   "id": "8ee44a7f-322e-4b68-ad4e-a6af6a57f3d3",
   "metadata": {},
   "source": [
    "### 1.1. Exploring the explanatory variables"
   ]
  },
  {
   "cell_type": "markdown",
   "id": "0942ab9d-e1fa-4ec3-b31b-78859a19c022",
   "metadata": {},
   "source": [
    "When the response variable is logical, all the points lie on the y = 0 and y = 0 lines, making it difficult to see what is happening. In the video, until you saw the trend line, it wasn't clear how the explanatory variable was distributed on each line. This can be solved with a histogram of the explanatory variable, grouped by the response.\n",
    "\n",
    "You will use these histograms to get to know the financial services churn dataset seen in the video.\n",
    "\n",
    "churn is available as a pandas DataFrame."
   ]
  },
  {
   "cell_type": "code",
   "execution_count": 2,
   "id": "74987f59-113e-4a1b-83ef-b9ec27d450ba",
   "metadata": {},
   "outputs": [],
   "source": [
    "churn = pd.read_csv('../data/churn.csv')"
   ]
  },
  {
   "cell_type": "code",
   "execution_count": 3,
   "id": "d849f14a-0076-4cb4-8439-9fb9a87cbd99",
   "metadata": {},
   "outputs": [
    {
     "data": {
      "text/html": [
       "<div>\n",
       "<style scoped>\n",
       "    .dataframe tbody tr th:only-of-type {\n",
       "        vertical-align: middle;\n",
       "    }\n",
       "\n",
       "    .dataframe tbody tr th {\n",
       "        vertical-align: top;\n",
       "    }\n",
       "\n",
       "    .dataframe thead th {\n",
       "        text-align: right;\n",
       "    }\n",
       "</style>\n",
       "<table border=\"1\" class=\"dataframe\">\n",
       "  <thead>\n",
       "    <tr style=\"text-align: right;\">\n",
       "      <th></th>\n",
       "      <th>has_churned</th>\n",
       "      <th>time_since_first_purchase</th>\n",
       "      <th>time_since_last_purchase</th>\n",
       "    </tr>\n",
       "  </thead>\n",
       "  <tbody>\n",
       "    <tr>\n",
       "      <th>0</th>\n",
       "      <td>0</td>\n",
       "      <td>-1.089221</td>\n",
       "      <td>-0.721322</td>\n",
       "    </tr>\n",
       "    <tr>\n",
       "      <th>1</th>\n",
       "      <td>0</td>\n",
       "      <td>1.182983</td>\n",
       "      <td>3.634435</td>\n",
       "    </tr>\n",
       "    <tr>\n",
       "      <th>2</th>\n",
       "      <td>0</td>\n",
       "      <td>-0.846156</td>\n",
       "      <td>-0.427582</td>\n",
       "    </tr>\n",
       "    <tr>\n",
       "      <th>3</th>\n",
       "      <td>0</td>\n",
       "      <td>0.086942</td>\n",
       "      <td>-0.535672</td>\n",
       "    </tr>\n",
       "    <tr>\n",
       "      <th>4</th>\n",
       "      <td>0</td>\n",
       "      <td>-1.166642</td>\n",
       "      <td>-0.672640</td>\n",
       "    </tr>\n",
       "  </tbody>\n",
       "</table>\n",
       "</div>"
      ],
      "text/plain": [
       "   has_churned  time_since_first_purchase  time_since_last_purchase\n",
       "0            0                  -1.089221                 -0.721322\n",
       "1            0                   1.182983                  3.634435\n",
       "2            0                  -0.846156                 -0.427582\n",
       "3            0                   0.086942                 -0.535672\n",
       "4            0                  -1.166642                 -0.672640"
      ]
     },
     "execution_count": 3,
     "metadata": {},
     "output_type": "execute_result"
    }
   ],
   "source": [
    "churn.head()"
   ]
  },
  {
   "cell_type": "markdown",
   "id": "a37fd3d8-a1c8-4248-8f97-87e5254da94a",
   "metadata": {},
   "source": [
    "- In a sns.displot() call on the churn data, plot time_since_last_purchase as two histograms, split for each has_churned value."
   ]
  },
  {
   "cell_type": "code",
   "execution_count": 4,
   "id": "446651a3-68b7-4f65-8483-0149dc8b7610",
   "metadata": {},
   "outputs": [
    {
     "data": {
      "image/png": "[encoded data removed]",
      "text/plain": [
       "<Figure size 720x360 with 2 Axes>"
      ]
     },
     "metadata": {},
     "output_type": "display_data"
    }
   ],
   "source": [
    "# Plotting the distribution of time since last purchase:\n",
    "g = sns.displot(data=churn, x='time_since_last_purchase', col='has_churned');"
   ]
  },
  {
   "cell_type": "markdown",
   "id": "e7e3cb30-8ee2-4b4f-9811-7fd59b35768f",
   "metadata": {},
   "source": [
    "- Redraw the histograms using the time_since_first_purchase column, split for each has_churned value."
   ]
  },
  {
   "cell_type": "code",
   "execution_count": 5,
   "id": "d98470e4-91e8-4f65-850d-06f5f472673f",
   "metadata": {},
   "outputs": [
    {
     "data": {
      "image/png": "[encoded data removed]",
      "text/plain": [
       "<Figure size 720x360 with 2 Axes>"
      ]
     },
     "metadata": {},
     "output_type": "display_data"
    }
   ],
   "source": [
    "# Plotting the distribution of time since first purchase:\n",
    "g = sns.displot(data=churn, x='time_since_first_purchase', col='has_churned');"
   ]
  },
  {
   "cell_type": "markdown",
   "id": "b6c23a32-dd5e-4f04-9e86-dfd1fd60f4db",
   "metadata": {},
   "source": [
    "### 1.2. Visualizing linear and logistic models"
   ]
  },
  {
   "cell_type": "markdown",
   "id": "c252339b-d8cd-4139-8e58-b4458be8bcb7",
   "metadata": {},
   "source": [
    "As with linear regressions, regplot() will draw model predictions for a logistic regression without you having to worry about the modeling code yourself. To see how the predictions differ for linear and logistic regressions, try drawing both trend lines side by side. Spoiler: you should see a linear (straight line) trend from the linear model, and a logistic (S-shaped) trend from the logistic model.\n",
    "\n",
    "churn is available."
   ]
  },
  {
   "cell_type": "code",
   "execution_count": 6,
   "id": "bfe3c79f-d11b-4a60-a0b3-2b396645df75",
   "metadata": {},
   "outputs": [
    {
     "data": {
      "text/html": [
       "<div>\n",
       "<style scoped>\n",
       "    .dataframe tbody tr th:only-of-type {\n",
       "        vertical-align: middle;\n",
       "    }\n",
       "\n",
       "    .dataframe tbody tr th {\n",
       "        vertical-align: top;\n",
       "    }\n",
       "\n",
       "    .dataframe thead th {\n",
       "        text-align: right;\n",
       "    }\n",
       "</style>\n",
       "<table border=\"1\" class=\"dataframe\">\n",
       "  <thead>\n",
       "    <tr style=\"text-align: right;\">\n",
       "      <th></th>\n",
       "      <th>has_churned</th>\n",
       "      <th>time_since_first_purchase</th>\n",
       "      <th>time_since_last_purchase</th>\n",
       "    </tr>\n",
       "  </thead>\n",
       "  <tbody>\n",
       "    <tr>\n",
       "      <th>0</th>\n",
       "      <td>0</td>\n",
       "      <td>-1.089221</td>\n",
       "      <td>-0.721322</td>\n",
       "    </tr>\n",
       "    <tr>\n",
       "      <th>1</th>\n",
       "      <td>0</td>\n",
       "      <td>1.182983</td>\n",
       "      <td>3.634435</td>\n",
       "    </tr>\n",
       "    <tr>\n",
       "      <th>2</th>\n",
       "      <td>0</td>\n",
       "      <td>-0.846156</td>\n",
       "      <td>-0.427582</td>\n",
       "    </tr>\n",
       "    <tr>\n",
       "      <th>3</th>\n",
       "      <td>0</td>\n",
       "      <td>0.086942</td>\n",
       "      <td>-0.535672</td>\n",
       "    </tr>\n",
       "    <tr>\n",
       "      <th>4</th>\n",
       "      <td>0</td>\n",
       "      <td>-1.166642</td>\n",
       "      <td>-0.672640</td>\n",
       "    </tr>\n",
       "  </tbody>\n",
       "</table>\n",
       "</div>"
      ],
      "text/plain": [
       "   has_churned  time_since_first_purchase  time_since_last_purchase\n",
       "0            0                  -1.089221                 -0.721322\n",
       "1            0                   1.182983                  3.634435\n",
       "2            0                  -0.846156                 -0.427582\n",
       "3            0                   0.086942                 -0.535672\n",
       "4            0                  -1.166642                 -0.672640"
      ]
     },
     "execution_count": 6,
     "metadata": {},
     "output_type": "execute_result"
    }
   ],
   "source": [
    "churn.head()"
   ]
  },
  {
   "cell_type": "markdown",
   "id": "52713b94-0621-492b-9c32-17135581810b",
   "metadata": {},
   "source": [
    "- Using churn, plot has_churned versus time_since_first_purchase as a scatter plot with a red linear regression trend line (without a standard error ribbon)."
   ]
  },
  {
   "cell_type": "code",
   "execution_count": 7,
   "id": "bb2e5373-5442-49c0-a857-1b9f2c1b8345",
   "metadata": {},
   "outputs": [
    {
     "data": {
      "image/png": "[encoded data removed]",
      "text/plain": [
       "<Figure size 432x288 with 1 Axes>"
      ]
     },
     "metadata": {},
     "output_type": "display_data"
    }
   ],
   "source": [
    "# Plotting time since first purchase Vs. churning (linear regression):\n",
    "ax = sns.regplot(data=churn, x='time_since_first_purchase', y='has_churned', ci=None, line_kws={\"color\": \"red\"});"
   ]
  },
  {
   "cell_type": "markdown",
   "id": "7210c687-f3f7-4ec0-9b07-2312cf45e911",
   "metadata": {},
   "source": [
    "- Using churn, plot has_churned versus time_since_first_purchase as a scatter plot with a blue logistic regression trend line (without a standard error ribbon)."
   ]
  },
  {
   "cell_type": "code",
   "execution_count": 8,
   "id": "f3ab4424-c22d-4e78-a109-91c9f67a32bd",
   "metadata": {},
   "outputs": [
    {
     "data": {
      "image/png": "[encoded data removed]",
      "text/plain": [
       "<Figure size 432x288 with 1 Axes>"
      ]
     },
     "metadata": {},
     "output_type": "display_data"
    }
   ],
   "source": [
    "# Plotting time since first purchase Vs. churning (logistic regression):\n",
    "ax = sns.regplot(data=churn, x='time_since_first_purchase', y='has_churned', ci=None, logistic=True, line_kws={\"color\": \"blue\"});"
   ]
  },
  {
   "cell_type": "markdown",
   "id": "b20c3693-a2b0-4298-8115-8afa7ab108d5",
   "metadata": {},
   "source": [
    "### 1.3. Logistic regression with logit()"
   ]
  },
  {
   "cell_type": "markdown",
   "id": "7ea7c8d3-effd-48db-851c-13227651565e",
   "metadata": {},
   "source": [
    "Logistic regression requires another function from statsmodels.formula.api: logit(). It takes the same arguments as ols(): a formula and data argument. You then use .fit() to fit the model to the data.\n",
    "\n",
    "Here, you'll model how the length of relationship with a customer affects churn.\n",
    "\n",
    "churn is available."
   ]
  },
  {
   "cell_type": "code",
   "execution_count": 9,
   "id": "a80667d0-3b51-4ffb-9357-6b506e49f4d2",
   "metadata": {},
   "outputs": [
    {
     "data": {
      "text/html": [
       "<div>\n",
       "<style scoped>\n",
       "    .dataframe tbody tr th:only-of-type {\n",
       "        vertical-align: middle;\n",
       "    }\n",
       "\n",
       "    .dataframe tbody tr th {\n",
       "        vertical-align: top;\n",
       "    }\n",
       "\n",
       "    .dataframe thead th {\n",
       "        text-align: right;\n",
       "    }\n",
       "</style>\n",
       "<table border=\"1\" class=\"dataframe\">\n",
       "  <thead>\n",
       "    <tr style=\"text-align: right;\">\n",
       "      <th></th>\n",
       "      <th>has_churned</th>\n",
       "      <th>time_since_first_purchase</th>\n",
       "      <th>time_since_last_purchase</th>\n",
       "    </tr>\n",
       "  </thead>\n",
       "  <tbody>\n",
       "    <tr>\n",
       "      <th>0</th>\n",
       "      <td>0</td>\n",
       "      <td>-1.089221</td>\n",
       "      <td>-0.721322</td>\n",
       "    </tr>\n",
       "    <tr>\n",
       "      <th>1</th>\n",
       "      <td>0</td>\n",
       "      <td>1.182983</td>\n",
       "      <td>3.634435</td>\n",
       "    </tr>\n",
       "    <tr>\n",
       "      <th>2</th>\n",
       "      <td>0</td>\n",
       "      <td>-0.846156</td>\n",
       "      <td>-0.427582</td>\n",
       "    </tr>\n",
       "    <tr>\n",
       "      <th>3</th>\n",
       "      <td>0</td>\n",
       "      <td>0.086942</td>\n",
       "      <td>-0.535672</td>\n",
       "    </tr>\n",
       "    <tr>\n",
       "      <th>4</th>\n",
       "      <td>0</td>\n",
       "      <td>-1.166642</td>\n",
       "      <td>-0.672640</td>\n",
       "    </tr>\n",
       "  </tbody>\n",
       "</table>\n",
       "</div>"
      ],
      "text/plain": [
       "   has_churned  time_since_first_purchase  time_since_last_purchase\n",
       "0            0                  -1.089221                 -0.721322\n",
       "1            0                   1.182983                  3.634435\n",
       "2            0                  -0.846156                 -0.427582\n",
       "3            0                   0.086942                 -0.535672\n",
       "4            0                  -1.166642                 -0.672640"
      ]
     },
     "execution_count": 9,
     "metadata": {},
     "output_type": "execute_result"
    }
   ],
   "source": [
    "churn.head()"
   ]
  },
  {
   "cell_type": "markdown",
   "id": "d542333a-2c92-48aa-a888-c959f5bb61a9",
   "metadata": {},
   "source": [
    "- Import the logit() function from statsmodels.formula.api.\n",
    "- Fit a logistic regression of has_churned versus time_since_first_purchase using the churn dataset. Assign to mdl_churn_vs_relationship.\n",
    "- Print the parameters of the fitted model."
   ]
  },
  {
   "cell_type": "code",
   "execution_count": 10,
   "id": "ddcfdbd0-a3af-4f9f-baa6-b2f251c730d2",
   "metadata": {},
   "outputs": [
    {
     "name": "stdout",
     "output_type": "stream",
     "text": [
      "Optimization terminated successfully.\n",
      "         Current function value: 0.679663\n",
      "         Iterations 4\n"
     ]
    }
   ],
   "source": [
    "# Initializing and fitting the model:\n",
    "model = logit(\"has_churned ~ time_since_first_purchase\", data=churn).fit()"
   ]
  },
  {
   "cell_type": "code",
   "execution_count": 11,
   "id": "c2005df8-6241-41b9-87f7-af82978c08f7",
   "metadata": {},
   "outputs": [
    {
     "data": {
      "text/plain": [
       "Intercept                   -0.015185\n",
       "time_since_first_purchase   -0.354795\n",
       "dtype: float64"
      ]
     },
     "execution_count": 11,
     "metadata": {},
     "output_type": "execute_result"
    }
   ],
   "source": [
    "model.params"
   ]
  },
  {
   "cell_type": "markdown",
   "id": "8687cc44-081e-4d4c-949f-7ba1f85442ff",
   "metadata": {},
   "source": [
    "## 2. Predictions and odds ratios"
   ]
  },
  {
   "cell_type": "markdown",
   "id": "e5c38e5b-0552-4af6-a5b5-601a3ffe1a71",
   "metadata": {},
   "source": [
    "### 2.1. Probabilities"
   ]
  },
  {
   "cell_type": "markdown",
   "id": "3d9138ff-eab2-49c3-9f12-c6270eb0cde7",
   "metadata": {},
   "source": [
    "There are four main ways of expressing the prediction from a logistic regression model – we'll look at each of them over the next four exercises. Firstly, since the response variable is either \"yes\" or \"no\", you can make a prediction of the probability of a \"yes\". Here, you'll calculate and visualize these probabilities.\n",
    "\n",
    "Two variables are available:\n",
    "\n",
    "- mdl_churn_vs_relationship is the fitted logistic regression model of has_churned versus time_since_first_purchase.\n",
    "- explanatory_data is a DataFrame of explanatory values."
   ]
  },
  {
   "cell_type": "code",
   "execution_count": 12,
   "id": "1a708a6e-16bc-499d-8d57-6ea624d8b110",
   "metadata": {},
   "outputs": [],
   "source": [
    "time_since_first_purchase = np.arange(-1.5, 4.25, 0.25)"
   ]
  },
  {
   "cell_type": "markdown",
   "id": "1f9e5206-3f71-4f4f-8414-48a4bbe806d7",
   "metadata": {},
   "source": [
    "- Create a DataFrame, prediction_data, by assigning a column has_churned to explanatory_data.\n",
    "- In the has_churned column, store the predictions of the probability of churning: use the model, mdl_churn_vs_relationship, and the explanatory data, explanatory_data.\n",
    "- Print the first five lines of the prediction DataFrame."
   ]
  },
  {
   "cell_type": "code",
   "execution_count": 13,
   "id": "aa7afcf6-765c-4abd-8a55-b9cd66224255",
   "metadata": {},
   "outputs": [],
   "source": [
    "prediction_data = pd.DataFrame({'time_since_first_purchase': time_since_first_purchase})"
   ]
  },
  {
   "cell_type": "code",
   "execution_count": 14,
   "id": "83be1c74-aefa-4b62-8a51-2a2202df9b5a",
   "metadata": {},
   "outputs": [],
   "source": [
    "prediction_data['has_churned'] = model.predict(prediction_data['time_since_first_purchase'])"
   ]
  },
  {
   "cell_type": "code",
   "execution_count": 15,
   "id": "92f8eb3d-cd59-4535-90ea-c47ae04fb4f3",
   "metadata": {},
   "outputs": [
    {
     "data": {
      "text/html": [
       "<div>\n",
       "<style scoped>\n",
       "    .dataframe tbody tr th:only-of-type {\n",
       "        vertical-align: middle;\n",
       "    }\n",
       "\n",
       "    .dataframe tbody tr th {\n",
       "        vertical-align: top;\n",
       "    }\n",
       "\n",
       "    .dataframe thead th {\n",
       "        text-align: right;\n",
       "    }\n",
       "</style>\n",
       "<table border=\"1\" class=\"dataframe\">\n",
       "  <thead>\n",
       "    <tr style=\"text-align: right;\">\n",
       "      <th></th>\n",
       "      <th>time_since_first_purchase</th>\n",
       "      <th>has_churned</th>\n",
       "    </tr>\n",
       "  </thead>\n",
       "  <tbody>\n",
       "    <tr>\n",
       "      <th>0</th>\n",
       "      <td>-1.50</td>\n",
       "      <td>0.626448</td>\n",
       "    </tr>\n",
       "    <tr>\n",
       "      <th>1</th>\n",
       "      <td>-1.25</td>\n",
       "      <td>0.605470</td>\n",
       "    </tr>\n",
       "    <tr>\n",
       "      <th>2</th>\n",
       "      <td>-1.00</td>\n",
       "      <td>0.584096</td>\n",
       "    </tr>\n",
       "    <tr>\n",
       "      <th>3</th>\n",
       "      <td>-0.75</td>\n",
       "      <td>0.562401</td>\n",
       "    </tr>\n",
       "    <tr>\n",
       "      <th>4</th>\n",
       "      <td>-0.50</td>\n",
       "      <td>0.540465</td>\n",
       "    </tr>\n",
       "  </tbody>\n",
       "</table>\n",
       "</div>"
      ],
      "text/plain": [
       "   time_since_first_purchase  has_churned\n",
       "0                      -1.50     0.626448\n",
       "1                      -1.25     0.605470\n",
       "2                      -1.00     0.584096\n",
       "3                      -0.75     0.562401\n",
       "4                      -0.50     0.540465"
      ]
     },
     "execution_count": 15,
     "metadata": {},
     "output_type": "execute_result"
    }
   ],
   "source": [
    "prediction_data.head()"
   ]
  },
  {
   "cell_type": "markdown",
   "id": "44ea2578-79ab-4931-a85a-ade797329950",
   "metadata": {},
   "source": [
    "- Create a scatter plot with a logistic trend line of has_churned versus time_since_first_purchase.\n",
    "- Overlay the plot with the points from prediction_data, colored red."
   ]
  },
  {
   "cell_type": "code",
   "execution_count": 16,
   "id": "1b10f941-edd5-4714-95ab-6bb4d9156bbb",
   "metadata": {},
   "outputs": [
    {
     "data": {
      "image/png": "[encoded data removed]",
      "text/plain": [
       "<Figure size 432x288 with 1 Axes>"
      ]
     },
     "metadata": {},
     "output_type": "display_data"
    }
   ],
   "source": [
    "# Plotting time since first purchase Vs. predicted odds ratio:\n",
    "fig, ax = plt.subplots()\n",
    "sns.regplot(data=churn, x='time_since_first_purchase', y='has_churned', ci=None, logistic=True, ax=ax)\n",
    "sns.scatterplot(data=prediction_data, x='time_since_first_purchase', y='has_churned', color='red', ax=ax);"
   ]
  },
  {
   "cell_type": "markdown",
   "id": "d4c00088-46c8-4b00-9050-d0b65ba6ce63",
   "metadata": {},
   "source": [
    "### 2.2. Most likely outcome"
   ]
  },
  {
   "cell_type": "markdown",
   "id": "fd51797c-dc7c-4899-a226-a0e64b3f8ac5",
   "metadata": {},
   "source": [
    "When explaining your results to a non-technical audience, you may wish to side-step talking about probabilities and simply explain the most likely outcome. That is, rather than saying there is a 60% chance of a customer churning, you say that the most likely outcome is that the customer will churn. The trade-off here is easier interpretation at the cost of nuance.\n",
    "\n",
    "mdl_churn_vs_relationship, explanatory_data, and prediction_data are available from the previous exercise."
   ]
  },
  {
   "cell_type": "code",
   "execution_count": 17,
   "id": "dfb90a41-47e1-4c02-9a33-2e1ef01ec8e0",
   "metadata": {},
   "outputs": [
    {
     "data": {
      "text/html": [
       "<div>\n",
       "<style scoped>\n",
       "    .dataframe tbody tr th:only-of-type {\n",
       "        vertical-align: middle;\n",
       "    }\n",
       "\n",
       "    .dataframe tbody tr th {\n",
       "        vertical-align: top;\n",
       "    }\n",
       "\n",
       "    .dataframe thead th {\n",
       "        text-align: right;\n",
       "    }\n",
       "</style>\n",
       "<table border=\"1\" class=\"dataframe\">\n",
       "  <thead>\n",
       "    <tr style=\"text-align: right;\">\n",
       "      <th></th>\n",
       "      <th>time_since_first_purchase</th>\n",
       "      <th>has_churned</th>\n",
       "    </tr>\n",
       "  </thead>\n",
       "  <tbody>\n",
       "    <tr>\n",
       "      <th>0</th>\n",
       "      <td>-1.50</td>\n",
       "      <td>0.626448</td>\n",
       "    </tr>\n",
       "    <tr>\n",
       "      <th>1</th>\n",
       "      <td>-1.25</td>\n",
       "      <td>0.605470</td>\n",
       "    </tr>\n",
       "    <tr>\n",
       "      <th>2</th>\n",
       "      <td>-1.00</td>\n",
       "      <td>0.584096</td>\n",
       "    </tr>\n",
       "    <tr>\n",
       "      <th>3</th>\n",
       "      <td>-0.75</td>\n",
       "      <td>0.562401</td>\n",
       "    </tr>\n",
       "    <tr>\n",
       "      <th>4</th>\n",
       "      <td>-0.50</td>\n",
       "      <td>0.540465</td>\n",
       "    </tr>\n",
       "  </tbody>\n",
       "</table>\n",
       "</div>"
      ],
      "text/plain": [
       "   time_since_first_purchase  has_churned\n",
       "0                      -1.50     0.626448\n",
       "1                      -1.25     0.605470\n",
       "2                      -1.00     0.584096\n",
       "3                      -0.75     0.562401\n",
       "4                      -0.50     0.540465"
      ]
     },
     "execution_count": 17,
     "metadata": {},
     "output_type": "execute_result"
    }
   ],
   "source": [
    "prediction_data.head()"
   ]
  },
  {
   "cell_type": "markdown",
   "id": "4a704945-d427-439b-a6b9-1a6dcb3d6b11",
   "metadata": {},
   "source": [
    "- Update prediction_data to add a column of the most likely churn outcome, most_likely_outcome.\n",
    "- Print the first five lines of prediction_data."
   ]
  },
  {
   "cell_type": "code",
   "execution_count": 18,
   "id": "74984479-2c51-4fbd-8bfc-5d389e609fe0",
   "metadata": {},
   "outputs": [],
   "source": [
    "prediction_data['most_likely_outcome'] = np.round(prediction_data['has_churned'])"
   ]
  },
  {
   "cell_type": "code",
   "execution_count": 19,
   "id": "fdbdb1a8-20f4-4d7c-bc16-1ad765d7c020",
   "metadata": {},
   "outputs": [
    {
     "data": {
      "text/html": [
       "<div>\n",
       "<style scoped>\n",
       "    .dataframe tbody tr th:only-of-type {\n",
       "        vertical-align: middle;\n",
       "    }\n",
       "\n",
       "    .dataframe tbody tr th {\n",
       "        vertical-align: top;\n",
       "    }\n",
       "\n",
       "    .dataframe thead th {\n",
       "        text-align: right;\n",
       "    }\n",
       "</style>\n",
       "<table border=\"1\" class=\"dataframe\">\n",
       "  <thead>\n",
       "    <tr style=\"text-align: right;\">\n",
       "      <th></th>\n",
       "      <th>time_since_first_purchase</th>\n",
       "      <th>has_churned</th>\n",
       "      <th>most_likely_outcome</th>\n",
       "    </tr>\n",
       "  </thead>\n",
       "  <tbody>\n",
       "    <tr>\n",
       "      <th>0</th>\n",
       "      <td>-1.50</td>\n",
       "      <td>0.626448</td>\n",
       "      <td>1.0</td>\n",
       "    </tr>\n",
       "    <tr>\n",
       "      <th>1</th>\n",
       "      <td>-1.25</td>\n",
       "      <td>0.605470</td>\n",
       "      <td>1.0</td>\n",
       "    </tr>\n",
       "    <tr>\n",
       "      <th>2</th>\n",
       "      <td>-1.00</td>\n",
       "      <td>0.584096</td>\n",
       "      <td>1.0</td>\n",
       "    </tr>\n",
       "    <tr>\n",
       "      <th>3</th>\n",
       "      <td>-0.75</td>\n",
       "      <td>0.562401</td>\n",
       "      <td>1.0</td>\n",
       "    </tr>\n",
       "    <tr>\n",
       "      <th>4</th>\n",
       "      <td>-0.50</td>\n",
       "      <td>0.540465</td>\n",
       "      <td>1.0</td>\n",
       "    </tr>\n",
       "  </tbody>\n",
       "</table>\n",
       "</div>"
      ],
      "text/plain": [
       "   time_since_first_purchase  has_churned  most_likely_outcome\n",
       "0                      -1.50     0.626448                  1.0\n",
       "1                      -1.25     0.605470                  1.0\n",
       "2                      -1.00     0.584096                  1.0\n",
       "3                      -0.75     0.562401                  1.0\n",
       "4                      -0.50     0.540465                  1.0"
      ]
     },
     "execution_count": 19,
     "metadata": {},
     "output_type": "execute_result"
    }
   ],
   "source": [
    "prediction_data.head()"
   ]
  },
  {
   "cell_type": "markdown",
   "id": "399696fd-94e9-4ec6-81b5-9b3dcf8b91a8",
   "metadata": {},
   "source": [
    "- The code for creating a scatter plot with logistic trend line has been added from a previous exercise.\n",
    "- Overlay the plot with prediction_data with red data points, with most_likely_outcome on the y-axis."
   ]
  },
  {
   "cell_type": "code",
   "execution_count": 20,
   "id": "67e7d1ed-47c0-4863-ba03-5c67968d6f34",
   "metadata": {},
   "outputs": [
    {
     "data": {
      "image/png": "[encoded data removed]",
      "text/plain": [
       "<Figure size 432x288 with 1 Axes>"
      ]
     },
     "metadata": {},
     "output_type": "display_data"
    }
   ],
   "source": [
    "# Plotting time since first purchase Vs. churning:\n",
    "fig, ax = plt.subplots()\n",
    "sns.regplot(data=churn, x='time_since_first_purchase', y='has_churned', ci=None, logistic=True, ax=ax)\n",
    "sns.scatterplot(data=prediction_data, x='time_since_first_purchase', y='most_likely_outcome', color='red', ax=ax);"
   ]
  },
  {
   "cell_type": "markdown",
   "id": "d8941109-7e53-42c6-9e50-7f041dc686f5",
   "metadata": {},
   "source": [
    "### 2.3. Odds ratio"
   ]
  },
  {
   "cell_type": "markdown",
   "id": "d66d486b-6221-4886-bb3a-c5809e93d32e",
   "metadata": {},
   "source": [
    "Odds ratios compare the probability of something happening with the probability of it not happening. This is sometimes easier to reason about than probabilities, particularly when you want to make decisions about choices. For example, if a customer has a 20% chance of churning, it may be more intuitive to say \"the chance of them not churning is four times higher than the chance of them churning\".\n",
    "\n",
    "mdl_churn_vs_relationship, explanatory_data, and prediction_data are available from the previous exercise."
   ]
  },
  {
   "cell_type": "markdown",
   "id": "bd174616-d38b-4d00-9a04-15bab1702d0d",
   "metadata": {},
   "source": [
    "- Update prediction_data to add a column, odds_ratio, of the odds ratios.\n",
    "- Print the first five lines of prediction_data."
   ]
  },
  {
   "cell_type": "code",
   "execution_count": 21,
   "id": "110781f4-23cd-4504-9491-06e6937f2a2b",
   "metadata": {},
   "outputs": [],
   "source": [
    "prediction_data['odds_ratio'] = prediction_data['has_churned'] / (1-prediction_data['has_churned'])"
   ]
  },
  {
   "cell_type": "code",
   "execution_count": 22,
   "id": "33c3d5c5-8139-4f91-9421-c04ba385590b",
   "metadata": {},
   "outputs": [
    {
     "data": {
      "text/html": [
       "<div>\n",
       "<style scoped>\n",
       "    .dataframe tbody tr th:only-of-type {\n",
       "        vertical-align: middle;\n",
       "    }\n",
       "\n",
       "    .dataframe tbody tr th {\n",
       "        vertical-align: top;\n",
       "    }\n",
       "\n",
       "    .dataframe thead th {\n",
       "        text-align: right;\n",
       "    }\n",
       "</style>\n",
       "<table border=\"1\" class=\"dataframe\">\n",
       "  <thead>\n",
       "    <tr style=\"text-align: right;\">\n",
       "      <th></th>\n",
       "      <th>time_since_first_purchase</th>\n",
       "      <th>has_churned</th>\n",
       "      <th>most_likely_outcome</th>\n",
       "      <th>odds_ratio</th>\n",
       "    </tr>\n",
       "  </thead>\n",
       "  <tbody>\n",
       "    <tr>\n",
       "      <th>0</th>\n",
       "      <td>-1.50</td>\n",
       "      <td>0.626448</td>\n",
       "      <td>1.0</td>\n",
       "      <td>1.677003</td>\n",
       "    </tr>\n",
       "    <tr>\n",
       "      <th>1</th>\n",
       "      <td>-1.25</td>\n",
       "      <td>0.605470</td>\n",
       "      <td>1.0</td>\n",
       "      <td>1.534661</td>\n",
       "    </tr>\n",
       "    <tr>\n",
       "      <th>2</th>\n",
       "      <td>-1.00</td>\n",
       "      <td>0.584096</td>\n",
       "      <td>1.0</td>\n",
       "      <td>1.404400</td>\n",
       "    </tr>\n",
       "    <tr>\n",
       "      <th>3</th>\n",
       "      <td>-0.75</td>\n",
       "      <td>0.562401</td>\n",
       "      <td>1.0</td>\n",
       "      <td>1.285197</td>\n",
       "    </tr>\n",
       "    <tr>\n",
       "      <th>4</th>\n",
       "      <td>-0.50</td>\n",
       "      <td>0.540465</td>\n",
       "      <td>1.0</td>\n",
       "      <td>1.176111</td>\n",
       "    </tr>\n",
       "  </tbody>\n",
       "</table>\n",
       "</div>"
      ],
      "text/plain": [
       "   time_since_first_purchase  has_churned  most_likely_outcome  odds_ratio\n",
       "0                      -1.50     0.626448                  1.0    1.677003\n",
       "1                      -1.25     0.605470                  1.0    1.534661\n",
       "2                      -1.00     0.584096                  1.0    1.404400\n",
       "3                      -0.75     0.562401                  1.0    1.285197\n",
       "4                      -0.50     0.540465                  1.0    1.176111"
      ]
     },
     "execution_count": 22,
     "metadata": {},
     "output_type": "execute_result"
    }
   ],
   "source": [
    "prediction_data.head()"
   ]
  },
  {
   "cell_type": "markdown",
   "id": "9fc44df1-d1a2-49b0-bfd2-d0b04aa83264",
   "metadata": {},
   "source": [
    "- Using prediction_data, draw a line plot of odds_ratio versus time_since_first_purchase.\n",
    "- Some code for preparing the final plot has already been added."
   ]
  },
  {
   "cell_type": "code",
   "execution_count": 23,
   "id": "9b9ad82a-6e7d-4f1b-bea4-7d082a8ef4e8",
   "metadata": {},
   "outputs": [
    {
     "data": {
      "image/png": "[encoded data removed]",
      "text/plain": [
       "<Figure size 432x288 with 1 Axes>"
      ]
     },
     "metadata": {},
     "output_type": "display_data"
    }
   ],
   "source": [
    "# Plotting time since first purchase Vs. predicted odds ratio:\n",
    "fig, ax = plt.subplots()\n",
    "sns.lineplot(data=prediction_data, x='time_since_first_purchase', y='odds_ratio', ax=ax)\n",
    "ax.axhline(y=1, linestyle=\"dotted\");"
   ]
  },
  {
   "cell_type": "markdown",
   "id": "f58ffa01-680a-42f7-b9ca-d25fe22c9a07",
   "metadata": {},
   "source": [
    "### 2.4. Log odds ratio"
   ]
  },
  {
   "cell_type": "markdown",
   "id": "a484d80d-2a05-45fd-a672-57bb414b026f",
   "metadata": {},
   "source": [
    "One downside to probabilities and odds ratios for logistic regression predictions is that the prediction lines for each are curved. This makes it harder to reason about what happens to the prediction when you make a change to the explanatory variable. The logarithm of the odds ratio (the \"log odds ratio\" or \"logit\") does have a linear relationship between predicted response and explanatory variable. That means that as the explanatory variable changes, you don't see dramatic changes in the response metric - only linear changes.\n",
    "\n",
    "Since the actual values of log odds ratio are less intuitive than (linear) odds ratio, for visualization purposes it's usually better to plot the odds ratio and apply a log transformation to the y-axis scale.\n",
    "\n",
    "mdl_churn_vs_relationship, explanatory_data, and prediction_data are available from the previous exercise."
   ]
  },
  {
   "cell_type": "markdown",
   "id": "9356834b-33b5-4673-8a77-375eaae7aa4a",
   "metadata": {},
   "source": [
    "- Update prediction_data to add a log_odds_ratio column derived from odds_ratio.\n",
    "- Print the first five lines of prediction_data."
   ]
  },
  {
   "cell_type": "code",
   "execution_count": 24,
   "id": "a552b101-ba0d-4967-8837-0ad3c1a3de0d",
   "metadata": {},
   "outputs": [],
   "source": [
    "prediction_data['log_odds_ratio'] = np.log(prediction_data['odds_ratio'])"
   ]
  },
  {
   "cell_type": "code",
   "execution_count": 25,
   "id": "057009a3-1582-495a-9134-ac85541221f1",
   "metadata": {},
   "outputs": [
    {
     "data": {
      "text/html": [
       "<div>\n",
       "<style scoped>\n",
       "    .dataframe tbody tr th:only-of-type {\n",
       "        vertical-align: middle;\n",
       "    }\n",
       "\n",
       "    .dataframe tbody tr th {\n",
       "        vertical-align: top;\n",
       "    }\n",
       "\n",
       "    .dataframe thead th {\n",
       "        text-align: right;\n",
       "    }\n",
       "</style>\n",
       "<table border=\"1\" class=\"dataframe\">\n",
       "  <thead>\n",
       "    <tr style=\"text-align: right;\">\n",
       "      <th></th>\n",
       "      <th>time_since_first_purchase</th>\n",
       "      <th>has_churned</th>\n",
       "      <th>most_likely_outcome</th>\n",
       "      <th>odds_ratio</th>\n",
       "      <th>log_odds_ratio</th>\n",
       "    </tr>\n",
       "  </thead>\n",
       "  <tbody>\n",
       "    <tr>\n",
       "      <th>0</th>\n",
       "      <td>-1.50</td>\n",
       "      <td>0.626448</td>\n",
       "      <td>1.0</td>\n",
       "      <td>1.677003</td>\n",
       "      <td>0.517008</td>\n",
       "    </tr>\n",
       "    <tr>\n",
       "      <th>1</th>\n",
       "      <td>-1.25</td>\n",
       "      <td>0.605470</td>\n",
       "      <td>1.0</td>\n",
       "      <td>1.534661</td>\n",
       "      <td>0.428309</td>\n",
       "    </tr>\n",
       "    <tr>\n",
       "      <th>2</th>\n",
       "      <td>-1.00</td>\n",
       "      <td>0.584096</td>\n",
       "      <td>1.0</td>\n",
       "      <td>1.404400</td>\n",
       "      <td>0.339610</td>\n",
       "    </tr>\n",
       "    <tr>\n",
       "      <th>3</th>\n",
       "      <td>-0.75</td>\n",
       "      <td>0.562401</td>\n",
       "      <td>1.0</td>\n",
       "      <td>1.285197</td>\n",
       "      <td>0.250912</td>\n",
       "    </tr>\n",
       "    <tr>\n",
       "      <th>4</th>\n",
       "      <td>-0.50</td>\n",
       "      <td>0.540465</td>\n",
       "      <td>1.0</td>\n",
       "      <td>1.176111</td>\n",
       "      <td>0.162213</td>\n",
       "    </tr>\n",
       "  </tbody>\n",
       "</table>\n",
       "</div>"
      ],
      "text/plain": [
       "   time_since_first_purchase  has_churned  most_likely_outcome  odds_ratio  \\\n",
       "0                      -1.50     0.626448                  1.0    1.677003   \n",
       "1                      -1.25     0.605470                  1.0    1.534661   \n",
       "2                      -1.00     0.584096                  1.0    1.404400   \n",
       "3                      -0.75     0.562401                  1.0    1.285197   \n",
       "4                      -0.50     0.540465                  1.0    1.176111   \n",
       "\n",
       "   log_odds_ratio  \n",
       "0        0.517008  \n",
       "1        0.428309  \n",
       "2        0.339610  \n",
       "3        0.250912  \n",
       "4        0.162213  "
      ]
     },
     "execution_count": 25,
     "metadata": {},
     "output_type": "execute_result"
    }
   ],
   "source": [
    "prediction_data.head()"
   ]
  },
  {
   "cell_type": "markdown",
   "id": "9f706586-fa06-4cf5-ac26-714240c55fc4",
   "metadata": {},
   "source": [
    "- Update the code for the line plot to plot log_odds_ratio versus time_since_first_purchase."
   ]
  },
  {
   "cell_type": "code",
   "execution_count": 26,
   "id": "753b0fe1-38a7-4515-9fbd-a82eceb9c912",
   "metadata": {},
   "outputs": [
    {
     "data": {
      "image/png": "[encoded data removed]",
      "text/plain": [
       "<Figure size 432x288 with 1 Axes>"
      ]
     },
     "metadata": {},
     "output_type": "display_data"
    }
   ],
   "source": [
    "# Plotting time since first purchase Vs. log predictec odds ratio:\n",
    "fig, ax = plt.subplots()\n",
    "sns.lineplot(data=prediction_data, x='time_since_first_purchase', y='log_odds_ratio', ax=ax)\n",
    "ax.axhline(y=0, linestyle=\"dotted\");"
   ]
  },
  {
   "cell_type": "markdown",
   "id": "453c25b6-4244-4399-8ca1-0c53fa398821",
   "metadata": {},
   "source": [
    "## 3. Quantifying logistic regression fit"
   ]
  },
  {
   "cell_type": "markdown",
   "id": "0b2c2146-a8d0-4757-9541-f04605fe487d",
   "metadata": {},
   "source": [
    "### 3.1. Calculating the confusion matrix"
   ]
  },
  {
   "cell_type": "markdown",
   "id": "5f799e66-c004-4a0e-80b3-05aa70aaa657",
   "metadata": {},
   "source": [
    "A confusion matrix (occasionally called a confusion table) is the basis of all performance metrics for models with a categorical response (such as a logistic regression). It contains the counts of each actual response-predicted response pair. In this case, where there are two possible responses (churn or not churn), there are four overall outcomes.\n",
    "\n",
    "1. True positive: The customer churned and the model predicted they would.\n",
    "2. False positive: The customer didn't churn, but the model predicted they would.\n",
    "3. True negative: The customer didn't churn and the model predicted they wouldn't.\n",
    "4. False negative: The customer churned, but the model predicted they wouldn't.\n",
    "\n",
    "churn and mdl_churn_vs_relationship are available."
   ]
  },
  {
   "cell_type": "code",
   "execution_count": 27,
   "id": "24602abd-0ad0-44ea-bee8-095e5efc1d72",
   "metadata": {},
   "outputs": [
    {
     "data": {
      "text/html": [
       "<div>\n",
       "<style scoped>\n",
       "    .dataframe tbody tr th:only-of-type {\n",
       "        vertical-align: middle;\n",
       "    }\n",
       "\n",
       "    .dataframe tbody tr th {\n",
       "        vertical-align: top;\n",
       "    }\n",
       "\n",
       "    .dataframe thead th {\n",
       "        text-align: right;\n",
       "    }\n",
       "</style>\n",
       "<table border=\"1\" class=\"dataframe\">\n",
       "  <thead>\n",
       "    <tr style=\"text-align: right;\">\n",
       "      <th></th>\n",
       "      <th>has_churned</th>\n",
       "      <th>time_since_first_purchase</th>\n",
       "      <th>time_since_last_purchase</th>\n",
       "    </tr>\n",
       "  </thead>\n",
       "  <tbody>\n",
       "    <tr>\n",
       "      <th>0</th>\n",
       "      <td>0</td>\n",
       "      <td>-1.089221</td>\n",
       "      <td>-0.721322</td>\n",
       "    </tr>\n",
       "    <tr>\n",
       "      <th>1</th>\n",
       "      <td>0</td>\n",
       "      <td>1.182983</td>\n",
       "      <td>3.634435</td>\n",
       "    </tr>\n",
       "    <tr>\n",
       "      <th>2</th>\n",
       "      <td>0</td>\n",
       "      <td>-0.846156</td>\n",
       "      <td>-0.427582</td>\n",
       "    </tr>\n",
       "    <tr>\n",
       "      <th>3</th>\n",
       "      <td>0</td>\n",
       "      <td>0.086942</td>\n",
       "      <td>-0.535672</td>\n",
       "    </tr>\n",
       "    <tr>\n",
       "      <th>4</th>\n",
       "      <td>0</td>\n",
       "      <td>-1.166642</td>\n",
       "      <td>-0.672640</td>\n",
       "    </tr>\n",
       "  </tbody>\n",
       "</table>\n",
       "</div>"
      ],
      "text/plain": [
       "   has_churned  time_since_first_purchase  time_since_last_purchase\n",
       "0            0                  -1.089221                 -0.721322\n",
       "1            0                   1.182983                  3.634435\n",
       "2            0                  -0.846156                 -0.427582\n",
       "3            0                   0.086942                 -0.535672\n",
       "4            0                  -1.166642                 -0.672640"
      ]
     },
     "execution_count": 27,
     "metadata": {},
     "output_type": "execute_result"
    }
   ],
   "source": [
    "churn.head()"
   ]
  },
  {
   "cell_type": "markdown",
   "id": "83d61f28-40ec-4975-a5c6-3bbdda64d3ed",
   "metadata": {},
   "source": [
    "- Get the actual responses by subsetting the has_churned column of the dataset. Assign to actual_response.\n",
    "- Get the \"most likely\" predicted responses from the model. Assign to predicted_response.\n",
    "- Create a DataFrame from actual_response and predicted_response. Assign to outcomes.\n",
    "- Print outcomes as a table of counts, representing the confusion matrix. This has been done for you."
   ]
  },
  {
   "cell_type": "code",
   "execution_count": 28,
   "id": "a0f5fc82-4830-4e94-b36f-964ba496b3d3",
   "metadata": {},
   "outputs": [],
   "source": [
    "actual_response = churn['has_churned']"
   ]
  },
  {
   "cell_type": "code",
   "execution_count": 29,
   "id": "a90b8a64-8907-4e06-b04a-36d4b77d5233",
   "metadata": {},
   "outputs": [],
   "source": [
    "predicted_response = np.round(model.predict(churn['time_since_first_purchase']))"
   ]
  },
  {
   "cell_type": "code",
   "execution_count": 30,
   "id": "3f9fcd89-1f0e-46c0-af77-0533d7790bac",
   "metadata": {},
   "outputs": [],
   "source": [
    "outcomes = pd.DataFrame({'actual_response': actual_response, 'predicted_response': predicted_response})"
   ]
  },
  {
   "cell_type": "code",
   "execution_count": 31,
   "id": "6d63c2df-cb8e-4644-9dcd-ab21005bb2ef",
   "metadata": {},
   "outputs": [
    {
     "data": {
      "text/plain": [
       "actual_response  predicted_response\n",
       "0                0.0                   112\n",
       "                 1.0                    88\n",
       "1                0.0                    76\n",
       "                 1.0                   124\n",
       "dtype: int64"
      ]
     },
     "execution_count": 31,
     "metadata": {},
     "output_type": "execute_result"
    }
   ],
   "source": [
    "outcomes.value_counts(sort=False)"
   ]
  },
  {
   "cell_type": "markdown",
   "id": "3651c8f6-cdf3-4c94-a7d5-3e48df1a665d",
   "metadata": {},
   "source": [
    "### 3.2. Drawing a mosaic plot of the confusion matrix"
   ]
  },
  {
   "cell_type": "markdown",
   "id": "b01304f1-7d4f-4f32-825d-04eb43b73a36",
   "metadata": {},
   "source": [
    "While calculating the performance matrix might be fun, it would become tedious if you needed multiple confusion matrices of different models. Luckily, the .pred_table() method can calculate the confusion matrix for you.\n",
    "\n",
    "Additionally, you can use the output from the .pred_table() method to visualize the confusion matrix, using the mosaic() function.\n",
    "\n",
    "churn and mdl_churn_vs_relationship are available."
   ]
  },
  {
   "cell_type": "markdown",
   "id": "8630f477-77e9-469f-97b7-63fc68f7d7a7",
   "metadata": {},
   "source": [
    "- Import the mosaic() function from statsmodels.graphics.mosaicplot.\n",
    "- Create conf_matrix using the .pred_table() method and print it.\n",
    "- Draw a mosaic plot of the confusion matrix."
   ]
  },
  {
   "cell_type": "code",
   "execution_count": 32,
   "id": "866067c4-994f-401f-a7e3-35f19c879feb",
   "metadata": {},
   "outputs": [],
   "source": [
    "conf_matrix = model.pred_table()"
   ]
  },
  {
   "cell_type": "code",
   "execution_count": 33,
   "id": "884a3c8b-8643-49fe-9ee1-343436ff3fd9",
   "metadata": {},
   "outputs": [
    {
     "data": {
      "text/plain": [
       "array([[112.,  88.],\n",
       "       [ 76., 124.]])"
      ]
     },
     "execution_count": 33,
     "metadata": {},
     "output_type": "execute_result"
    }
   ],
   "source": [
    "conf_matrix"
   ]
  },
  {
   "cell_type": "code",
   "execution_count": 34,
   "id": "a840972a-d98f-460b-8948-b7769ce6e694",
   "metadata": {},
   "outputs": [
    {
     "data": {
      "image/png": "[encoded data removed]",
      "text/plain": [
       "<Figure size 432x288 with 3 Axes>"
      ]
     },
     "metadata": {},
     "output_type": "display_data"
    }
   ],
   "source": [
    "# Plotting the confusion matrix:\n",
    "fig, ax = plt.subplots()\n",
    "mosaic(data=conf_matrix, ax=ax)\n",
    "ax.set_xlabel(f'Actual outcomes ({conf_matrix.sum(axis=1)[0]} | {conf_matrix.sum(axis=1)[1]})')\n",
    "ax.set_ylabel(f'Predicted outcomes ({conf_matrix.sum(axis=0)[0]} | {conf_matrix.sum(axis=0)[1]})');"
   ]
  },
  {
   "cell_type": "markdown",
   "id": "9d7edb13-49b2-4c30-8fc8-3bcf8795ccfb",
   "metadata": {},
   "source": [
    "### 3.3. Accuracy, sensitivity, specificity"
   ]
  },
  {
   "cell_type": "markdown",
   "id": "721bf0b2-d781-4bd1-932e-ed84b219d000",
   "metadata": {},
   "source": [
    "Lots of performance metrics can be computed from a confusion matrix. For logistic regression, three of them in particular are important: accuracy, sensitivity, and specificity. Can you identify what each of those terms mean in the context of the churn model?"
   ]
  },
  {
   "cell_type": "markdown",
   "id": "ea32aa06-155f-49dd-9ee9-32a6e48da428",
   "metadata": {},
   "source": [
    "- Match the definition of the churn model performance metric to the name of that metric."
   ]
  },
  {
   "attachments": {
    "2c979b4c-6dbe-4c29-b634-d39f3fa58531.png": {
     "image/png": "[encoded data removed]"
    }
   },
   "cell_type": "markdown",
   "id": "61a09790-7061-4a78-bf2e-b5e64fcaf2e7",
   "metadata": {},
   "source": [
    "![image.png](attachment:2c979b4c-6dbe-4c29-b634-d39f3fa58531.png)"
   ]
  },
  {
   "cell_type": "markdown",
   "id": "231a36f4-5406-4462-bb1c-a9dc89149fcd",
   "metadata": {},
   "source": [
    "### 3.4. Measuring logistic model performance"
   ]
  },
  {
   "cell_type": "markdown",
   "id": "ca14b82a-c5d0-46c1-a287-17987388b6c0",
   "metadata": {},
   "source": [
    "As you know by now, several metrics exist for measuring the performance of a logistic regression model. In this last exercise, you'll manually calculate accuracy, sensitivity, and specificity. Recall the following definitions:\n",
    "\n",
    "- Accuracy is the proportion of predictions that are correct.\n",
    "- Sensitivity is the proportion of true observations that are correctly predicted by the model as being true.\n",
    "- Specificity is the proportion of false observations that are correctly predicted by the model as being false.\n",
    "\n",
    "churn, mdl_churn_vs_relationship, and conf_matrix are available."
   ]
  },
  {
   "cell_type": "markdown",
   "id": "167621ba-da72-4180-b0fd-b1aa96f61aeb",
   "metadata": {},
   "source": [
    "- Extract the number of true positives (TP), true negatives (TN), false positives (FP), and false negatives (FN) from conf_matrix.\n",
    "- Calculate the accuracy of the model.\n",
    "- Calculate the sensitivity of the model.\n",
    "- Calculate the specificity of the model."
   ]
  },
  {
   "cell_type": "code",
   "execution_count": 35,
   "id": "c7839eb3-520b-484b-9140-a9b0711ca005",
   "metadata": {},
   "outputs": [],
   "source": [
    "TN = conf_matrix[0, 0]\n",
    "TP = conf_matrix[1, 1]\n",
    "FN = conf_matrix[1, 0]\n",
    "FP = conf_matrix[0, 1]"
   ]
  },
  {
   "cell_type": "code",
   "execution_count": 36,
   "id": "001be4c4-4f2a-486e-a586-39f5efe9bfbd",
   "metadata": {},
   "outputs": [],
   "source": [
    "accuracy = (TN + TP) / conf_matrix.sum()"
   ]
  },
  {
   "cell_type": "code",
   "execution_count": 37,
   "id": "890fb08c-1be8-4749-afc0-bf606c8a2df3",
   "metadata": {},
   "outputs": [],
   "source": [
    "sensitivity = TP / (TP + FN)"
   ]
  },
  {
   "cell_type": "code",
   "execution_count": 38,
   "id": "865573d0-5265-4add-a783-42c77526ec3d",
   "metadata": {},
   "outputs": [],
   "source": [
    "specificity = TN / (TN + FP)"
   ]
  },
  {
   "cell_type": "code",
   "execution_count": 39,
   "id": "5548cb34-ec11-4eda-9c08-9078e5219cd2",
   "metadata": {},
   "outputs": [
    {
     "data": {
      "text/plain": [
       "(0.59, 0.62, 0.56)"
      ]
     },
     "execution_count": 39,
     "metadata": {},
     "output_type": "execute_result"
    }
   ],
   "source": [
    "accuracy, sensitivity, specificity"
   ]
  }
 ],
 "metadata": {
  "kernelspec": {
   "display_name": "Python 3 (ipykernel)",
   "language": "python",
   "name": "python3"
  },
  "language_info": {
   "codemirror_mode": {
    "name": "ipython",
    "version": 3
   },
   "file_extension": ".py",
   "mimetype": "text/x-python",
   "name": "python",
   "nbconvert_exporter": "python",
   "pygments_lexer": "ipython3",
   "version": "3.9.6"
  }
 },
 "nbformat": 4,
 "nbformat_minor": 5
}
